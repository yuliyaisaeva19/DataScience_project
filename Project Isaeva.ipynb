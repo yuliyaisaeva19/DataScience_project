{
 "cells": [
  {
   "cell_type": "markdown",
   "id": "9c4c40e0",
   "metadata": {},
   "source": [
    "<p style = \"font-size: 22px; font-weight:700; text-align: center;\"> Практическая работа 1</p>"
   ]
  },
  {
   "cell_type": "markdown",
   "id": "bfeac69e",
   "metadata": {},
   "source": [
    "<em>Выполнила: студентка группы ММР211, Исаева Юлия Олеговна</em>"
   ]
  },
  {
   "cell_type": "markdown",
   "id": "5e38c73d",
   "metadata": {},
   "source": [
    "<b>Цель работы:</b> предсказать, был ли пассажир перенесен в альтернативное измерение во время столкновения космического корабля \"Титаник\" с пространственно-временной аномалией"
   ]
  },
  {
   "cell_type": "markdown",
   "id": "0a160839",
   "metadata": {},
   "source": [
    "<b>Описание данных.</b>"
   ]
  },
  {
   "cell_type": "markdown",
   "id": "02068342",
   "metadata": {},
   "source": [
    "Источник: https://www.kaggle.com/competitions/spaceship-titanic/overview"
   ]
  },
  {
   "cell_type": "markdown",
   "id": "21ad0b7d",
   "metadata": {},
   "source": [
    "<em>PassengerId</em> - Уникальный идентификатор для каждого пассажира. Каждый идентификатор имеет форму gggg_pp, где gggg указывает группу, с которой путешествует пассажир, а pp - их номер в группе. Люди в группе часто являются членами семьи, но не всегда.<br>\n",
    "<em>HomePlanet</em> - планета, с которой вылетел пассажир, как правило, их планета постоянного проживания.<br>\n",
    "<em>CryoSleep</em> - указывает, решил ли пассажир погрузиться в анабиоз на время путешествия. Пассажиры, находящиеся в криосне, прикованы к своим каютам.<br>\n",
    "<em>Cabin</em> - номер каюты, в которой находится пассажир. Принимает форму deck/num/side, где side может быть либо P для левого, либо S для правого борта.<br>\n",
    "<em>Destination</em> - планета, на которой пассажир будет высаживаться.<br>\n",
    "<em>Age</em> - возраст пассажира.<br>\n",
    "<em>VIP</em> - платил ли пассажир специальное VIP-обслуживание во время рейса.<br>\n",
    "<em>RoomService, FoodCourt, ShoppingMall, Spa, VRDeck</em>  - сумма, которую пассажир оплатил за все многочисленные роскошные удобства космического корабля \"Титаник\".<br>\n",
    "<em>Name</em> - имя и фамилия пассажира.<br>\n",
    "<em>Transported</em> - целевая переменная: был ли пассажир перенесен в другое измерение."
   ]
  },
  {
   "cell_type": "markdown",
   "id": "123229c5",
   "metadata": {},
   "source": [
    "<b>Импортирование библиотек.</b>"
   ]
  },
  {
   "cell_type": "code",
   "execution_count": 1,
   "id": "e99830bf",
   "metadata": {},
   "outputs": [],
   "source": [
    "import pandas as pd\n",
    "import numpy as np\n",
    "import matplotlib.pyplot as plt\n",
    "import seaborn as sns\n",
    "\n",
    "from sklearn.preprocessing import LabelEncoder\n",
    "from sklearn.model_selection import train_test_split\n",
    "from sklearn.neighbors import KNeighborsClassifier\n",
    "from sklearn.metrics import accuracy_score"
   ]
  },
  {
   "cell_type": "markdown",
   "id": "a32e5536",
   "metadata": {},
   "source": [
    "<b>Базовый анализ данных.</b>"
   ]
  },
  {
   "cell_type": "code",
   "execution_count": 2,
   "id": "02a2220e",
   "metadata": {},
   "outputs": [],
   "source": [
    "df = pd.read_csv(\"Data/train.csv\", sep = ',')"
   ]
  },
  {
   "cell_type": "code",
   "execution_count": 3,
   "id": "a271d1cc",
   "metadata": {},
   "outputs": [
    {
     "data": {
      "text/html": [
       "<div>\n",
       "<style scoped>\n",
       "    .dataframe tbody tr th:only-of-type {\n",
       "        vertical-align: middle;\n",
       "    }\n",
       "\n",
       "    .dataframe tbody tr th {\n",
       "        vertical-align: top;\n",
       "    }\n",
       "\n",
       "    .dataframe thead th {\n",
       "        text-align: right;\n",
       "    }\n",
       "</style>\n",
       "<table border=\"1\" class=\"dataframe\">\n",
       "  <thead>\n",
       "    <tr style=\"text-align: right;\">\n",
       "      <th></th>\n",
       "      <th>PassengerId</th>\n",
       "      <th>HomePlanet</th>\n",
       "      <th>CryoSleep</th>\n",
       "      <th>Cabin</th>\n",
       "      <th>Destination</th>\n",
       "      <th>Age</th>\n",
       "      <th>VIP</th>\n",
       "      <th>RoomService</th>\n",
       "      <th>FoodCourt</th>\n",
       "      <th>ShoppingMall</th>\n",
       "      <th>Spa</th>\n",
       "      <th>VRDeck</th>\n",
       "      <th>Name</th>\n",
       "      <th>Transported</th>\n",
       "    </tr>\n",
       "  </thead>\n",
       "  <tbody>\n",
       "    <tr>\n",
       "      <th>0</th>\n",
       "      <td>0001_01</td>\n",
       "      <td>Europa</td>\n",
       "      <td>False</td>\n",
       "      <td>B/0/P</td>\n",
       "      <td>TRAPPIST-1e</td>\n",
       "      <td>39.0</td>\n",
       "      <td>False</td>\n",
       "      <td>0.0</td>\n",
       "      <td>0.0</td>\n",
       "      <td>0.0</td>\n",
       "      <td>0.0</td>\n",
       "      <td>0.0</td>\n",
       "      <td>Maham Ofracculy</td>\n",
       "      <td>False</td>\n",
       "    </tr>\n",
       "    <tr>\n",
       "      <th>1</th>\n",
       "      <td>0002_01</td>\n",
       "      <td>Earth</td>\n",
       "      <td>False</td>\n",
       "      <td>F/0/S</td>\n",
       "      <td>TRAPPIST-1e</td>\n",
       "      <td>24.0</td>\n",
       "      <td>False</td>\n",
       "      <td>109.0</td>\n",
       "      <td>9.0</td>\n",
       "      <td>25.0</td>\n",
       "      <td>549.0</td>\n",
       "      <td>44.0</td>\n",
       "      <td>Juanna Vines</td>\n",
       "      <td>True</td>\n",
       "    </tr>\n",
       "    <tr>\n",
       "      <th>2</th>\n",
       "      <td>0003_01</td>\n",
       "      <td>Europa</td>\n",
       "      <td>False</td>\n",
       "      <td>A/0/S</td>\n",
       "      <td>TRAPPIST-1e</td>\n",
       "      <td>58.0</td>\n",
       "      <td>True</td>\n",
       "      <td>43.0</td>\n",
       "      <td>3576.0</td>\n",
       "      <td>0.0</td>\n",
       "      <td>6715.0</td>\n",
       "      <td>49.0</td>\n",
       "      <td>Altark Susent</td>\n",
       "      <td>False</td>\n",
       "    </tr>\n",
       "    <tr>\n",
       "      <th>3</th>\n",
       "      <td>0003_02</td>\n",
       "      <td>Europa</td>\n",
       "      <td>False</td>\n",
       "      <td>A/0/S</td>\n",
       "      <td>TRAPPIST-1e</td>\n",
       "      <td>33.0</td>\n",
       "      <td>False</td>\n",
       "      <td>0.0</td>\n",
       "      <td>1283.0</td>\n",
       "      <td>371.0</td>\n",
       "      <td>3329.0</td>\n",
       "      <td>193.0</td>\n",
       "      <td>Solam Susent</td>\n",
       "      <td>False</td>\n",
       "    </tr>\n",
       "    <tr>\n",
       "      <th>4</th>\n",
       "      <td>0004_01</td>\n",
       "      <td>Earth</td>\n",
       "      <td>False</td>\n",
       "      <td>F/1/S</td>\n",
       "      <td>TRAPPIST-1e</td>\n",
       "      <td>16.0</td>\n",
       "      <td>False</td>\n",
       "      <td>303.0</td>\n",
       "      <td>70.0</td>\n",
       "      <td>151.0</td>\n",
       "      <td>565.0</td>\n",
       "      <td>2.0</td>\n",
       "      <td>Willy Santantines</td>\n",
       "      <td>True</td>\n",
       "    </tr>\n",
       "  </tbody>\n",
       "</table>\n",
       "</div>"
      ],
      "text/plain": [
       "  PassengerId HomePlanet CryoSleep  Cabin  Destination   Age    VIP  \\\n",
       "0     0001_01     Europa     False  B/0/P  TRAPPIST-1e  39.0  False   \n",
       "1     0002_01      Earth     False  F/0/S  TRAPPIST-1e  24.0  False   \n",
       "2     0003_01     Europa     False  A/0/S  TRAPPIST-1e  58.0   True   \n",
       "3     0003_02     Europa     False  A/0/S  TRAPPIST-1e  33.0  False   \n",
       "4     0004_01      Earth     False  F/1/S  TRAPPIST-1e  16.0  False   \n",
       "\n",
       "   RoomService  FoodCourt  ShoppingMall     Spa  VRDeck               Name  \\\n",
       "0          0.0        0.0           0.0     0.0     0.0    Maham Ofracculy   \n",
       "1        109.0        9.0          25.0   549.0    44.0       Juanna Vines   \n",
       "2         43.0     3576.0           0.0  6715.0    49.0      Altark Susent   \n",
       "3          0.0     1283.0         371.0  3329.0   193.0       Solam Susent   \n",
       "4        303.0       70.0         151.0   565.0     2.0  Willy Santantines   \n",
       "\n",
       "   Transported  \n",
       "0        False  \n",
       "1         True  \n",
       "2        False  \n",
       "3        False  \n",
       "4         True  "
      ]
     },
     "execution_count": 3,
     "metadata": {},
     "output_type": "execute_result"
    }
   ],
   "source": [
    "df.head()"
   ]
  },
  {
   "cell_type": "code",
   "execution_count": 4,
   "id": "38a8af14",
   "metadata": {},
   "outputs": [
    {
     "data": {
      "text/html": [
       "<div>\n",
       "<style scoped>\n",
       "    .dataframe tbody tr th:only-of-type {\n",
       "        vertical-align: middle;\n",
       "    }\n",
       "\n",
       "    .dataframe tbody tr th {\n",
       "        vertical-align: top;\n",
       "    }\n",
       "\n",
       "    .dataframe thead th {\n",
       "        text-align: right;\n",
       "    }\n",
       "</style>\n",
       "<table border=\"1\" class=\"dataframe\">\n",
       "  <thead>\n",
       "    <tr style=\"text-align: right;\">\n",
       "      <th></th>\n",
       "      <th>PassengerId</th>\n",
       "      <th>HomePlanet</th>\n",
       "      <th>CryoSleep</th>\n",
       "      <th>Cabin</th>\n",
       "      <th>Destination</th>\n",
       "      <th>Age</th>\n",
       "      <th>VIP</th>\n",
       "      <th>RoomService</th>\n",
       "      <th>FoodCourt</th>\n",
       "      <th>ShoppingMall</th>\n",
       "      <th>Spa</th>\n",
       "      <th>VRDeck</th>\n",
       "      <th>Name</th>\n",
       "      <th>Transported</th>\n",
       "    </tr>\n",
       "  </thead>\n",
       "  <tbody>\n",
       "    <tr>\n",
       "      <th>8688</th>\n",
       "      <td>9276_01</td>\n",
       "      <td>Europa</td>\n",
       "      <td>False</td>\n",
       "      <td>A/98/P</td>\n",
       "      <td>55 Cancri e</td>\n",
       "      <td>41.0</td>\n",
       "      <td>True</td>\n",
       "      <td>0.0</td>\n",
       "      <td>6819.0</td>\n",
       "      <td>0.0</td>\n",
       "      <td>1643.0</td>\n",
       "      <td>74.0</td>\n",
       "      <td>Gravior Noxnuther</td>\n",
       "      <td>False</td>\n",
       "    </tr>\n",
       "    <tr>\n",
       "      <th>8689</th>\n",
       "      <td>9278_01</td>\n",
       "      <td>Earth</td>\n",
       "      <td>True</td>\n",
       "      <td>G/1499/S</td>\n",
       "      <td>PSO J318.5-22</td>\n",
       "      <td>18.0</td>\n",
       "      <td>False</td>\n",
       "      <td>0.0</td>\n",
       "      <td>0.0</td>\n",
       "      <td>0.0</td>\n",
       "      <td>0.0</td>\n",
       "      <td>0.0</td>\n",
       "      <td>Kurta Mondalley</td>\n",
       "      <td>False</td>\n",
       "    </tr>\n",
       "    <tr>\n",
       "      <th>8690</th>\n",
       "      <td>9279_01</td>\n",
       "      <td>Earth</td>\n",
       "      <td>False</td>\n",
       "      <td>G/1500/S</td>\n",
       "      <td>TRAPPIST-1e</td>\n",
       "      <td>26.0</td>\n",
       "      <td>False</td>\n",
       "      <td>0.0</td>\n",
       "      <td>0.0</td>\n",
       "      <td>1872.0</td>\n",
       "      <td>1.0</td>\n",
       "      <td>0.0</td>\n",
       "      <td>Fayey Connon</td>\n",
       "      <td>True</td>\n",
       "    </tr>\n",
       "    <tr>\n",
       "      <th>8691</th>\n",
       "      <td>9280_01</td>\n",
       "      <td>Europa</td>\n",
       "      <td>False</td>\n",
       "      <td>E/608/S</td>\n",
       "      <td>55 Cancri e</td>\n",
       "      <td>32.0</td>\n",
       "      <td>False</td>\n",
       "      <td>0.0</td>\n",
       "      <td>1049.0</td>\n",
       "      <td>0.0</td>\n",
       "      <td>353.0</td>\n",
       "      <td>3235.0</td>\n",
       "      <td>Celeon Hontichre</td>\n",
       "      <td>False</td>\n",
       "    </tr>\n",
       "    <tr>\n",
       "      <th>8692</th>\n",
       "      <td>9280_02</td>\n",
       "      <td>Europa</td>\n",
       "      <td>False</td>\n",
       "      <td>E/608/S</td>\n",
       "      <td>TRAPPIST-1e</td>\n",
       "      <td>44.0</td>\n",
       "      <td>False</td>\n",
       "      <td>126.0</td>\n",
       "      <td>4688.0</td>\n",
       "      <td>0.0</td>\n",
       "      <td>0.0</td>\n",
       "      <td>12.0</td>\n",
       "      <td>Propsh Hontichre</td>\n",
       "      <td>True</td>\n",
       "    </tr>\n",
       "  </tbody>\n",
       "</table>\n",
       "</div>"
      ],
      "text/plain": [
       "     PassengerId HomePlanet CryoSleep     Cabin    Destination   Age    VIP  \\\n",
       "8688     9276_01     Europa     False    A/98/P    55 Cancri e  41.0   True   \n",
       "8689     9278_01      Earth      True  G/1499/S  PSO J318.5-22  18.0  False   \n",
       "8690     9279_01      Earth     False  G/1500/S    TRAPPIST-1e  26.0  False   \n",
       "8691     9280_01     Europa     False   E/608/S    55 Cancri e  32.0  False   \n",
       "8692     9280_02     Europa     False   E/608/S    TRAPPIST-1e  44.0  False   \n",
       "\n",
       "      RoomService  FoodCourt  ShoppingMall     Spa  VRDeck               Name  \\\n",
       "8688          0.0     6819.0           0.0  1643.0    74.0  Gravior Noxnuther   \n",
       "8689          0.0        0.0           0.0     0.0     0.0    Kurta Mondalley   \n",
       "8690          0.0        0.0        1872.0     1.0     0.0       Fayey Connon   \n",
       "8691          0.0     1049.0           0.0   353.0  3235.0   Celeon Hontichre   \n",
       "8692        126.0     4688.0           0.0     0.0    12.0   Propsh Hontichre   \n",
       "\n",
       "      Transported  \n",
       "8688        False  \n",
       "8689        False  \n",
       "8690         True  \n",
       "8691        False  \n",
       "8692         True  "
      ]
     },
     "execution_count": 4,
     "metadata": {},
     "output_type": "execute_result"
    }
   ],
   "source": [
    "df.tail()"
   ]
  },
  {
   "cell_type": "code",
   "execution_count": 5,
   "id": "7e14f5d8",
   "metadata": {},
   "outputs": [
    {
     "data": {
      "text/plain": [
       "(8693, 14)"
      ]
     },
     "execution_count": 5,
     "metadata": {},
     "output_type": "execute_result"
    }
   ],
   "source": [
    "df.shape"
   ]
  },
  {
   "cell_type": "code",
   "execution_count": 6,
   "id": "1628036a",
   "metadata": {},
   "outputs": [
    {
     "name": "stdout",
     "output_type": "stream",
     "text": [
      "<class 'pandas.core.frame.DataFrame'>\n",
      "RangeIndex: 8693 entries, 0 to 8692\n",
      "Data columns (total 14 columns):\n",
      " #   Column        Non-Null Count  Dtype  \n",
      "---  ------        --------------  -----  \n",
      " 0   PassengerId   8693 non-null   object \n",
      " 1   HomePlanet    8492 non-null   object \n",
      " 2   CryoSleep     8476 non-null   object \n",
      " 3   Cabin         8494 non-null   object \n",
      " 4   Destination   8511 non-null   object \n",
      " 5   Age           8514 non-null   float64\n",
      " 6   VIP           8490 non-null   object \n",
      " 7   RoomService   8512 non-null   float64\n",
      " 8   FoodCourt     8510 non-null   float64\n",
      " 9   ShoppingMall  8485 non-null   float64\n",
      " 10  Spa           8510 non-null   float64\n",
      " 11  VRDeck        8505 non-null   float64\n",
      " 12  Name          8493 non-null   object \n",
      " 13  Transported   8693 non-null   bool   \n",
      "dtypes: bool(1), float64(6), object(7)\n",
      "memory usage: 891.5+ KB\n"
     ]
    }
   ],
   "source": [
    "df.info()"
   ]
  },
  {
   "cell_type": "markdown",
   "id": "2481643a",
   "metadata": {},
   "source": [
    "С помощью приведенной выше аналитики видим, что размерность нашего датасета: 14 столбцов и 8693 строки.<br>\n",
    "7 переменных являются строковым типом данных, 6 переменных - числовой тип (число с плавающей запятой) и 1 переменная булевого типа."
   ]
  },
  {
   "cell_type": "code",
   "execution_count": 7,
   "id": "2428c036",
   "metadata": {},
   "outputs": [
    {
     "data": {
      "text/plain": [
       "PassengerId     8693\n",
       "HomePlanet         3\n",
       "CryoSleep          2\n",
       "Cabin           6560\n",
       "Destination        3\n",
       "Age               80\n",
       "VIP                2\n",
       "RoomService     1273\n",
       "FoodCourt       1507\n",
       "ShoppingMall    1115\n",
       "Spa             1327\n",
       "VRDeck          1306\n",
       "Name            8473\n",
       "Transported        2\n",
       "dtype: int64"
      ]
     },
     "execution_count": 7,
     "metadata": {},
     "output_type": "execute_result"
    }
   ],
   "source": [
    "df.nunique()"
   ]
  },
  {
   "cell_type": "markdown",
   "id": "198e93f6",
   "metadata": {},
   "source": [
    "Исходя из данных выше мы можем подчеркнуть основную информацию:\n",
    "    <ul>\n",
    "    <li>Столбец PassengerId действительно является уникальным идентификатором пассажира, так как все значения уникальны;</li>\n",
    "    <li>Столбцы HomePlanet, CryoSleep, Destination и VIP принимают небольшое кол-во значений, что указывает нам на то, что они могут быть категориальными и нам необходимо их будет перекодировать для более оптимальной дальнейшей работы с ними;</li>\n",
    "    <li>Столбцы Cabin и Name являются данными строкового типа, но принимают большое количество значений, поэтому мы не будем преобразовывать их в категориальную переменную.</li>\n",
    "   </ul>"
   ]
  },
  {
   "cell_type": "markdown",
   "id": "072832b9",
   "metadata": {},
   "source": [
    "Также мы видим что, в целом, в данных не очень много пропусков, однако, дополнительно убедимся в этом, рассчитав % missing values."
   ]
  },
  {
   "cell_type": "code",
   "execution_count": 8,
   "id": "a9b4cd02",
   "metadata": {},
   "outputs": [
    {
     "data": {
      "text/plain": [
       "PassengerId     0.000000\n",
       "HomePlanet      2.312205\n",
       "CryoSleep       2.496261\n",
       "Cabin           2.289198\n",
       "Destination     2.093639\n",
       "Age             2.059128\n",
       "VIP             2.335212\n",
       "RoomService     2.082135\n",
       "FoodCourt       2.105142\n",
       "ShoppingMall    2.392730\n",
       "Spa             2.105142\n",
       "VRDeck          2.162660\n",
       "Name            2.300702\n",
       "Transported     0.000000\n",
       "dtype: float64"
      ]
     },
     "execution_count": 8,
     "metadata": {},
     "output_type": "execute_result"
    }
   ],
   "source": [
    "df.isnull().sum()/len(df)*100"
   ]
  },
  {
   "cell_type": "markdown",
   "id": "63dfa50f",
   "metadata": {},
   "source": [
    "Действительно, процент пропущенных значений в каждом столбце не превышает 2.5%, что является допустимым значением. При этом в столбце PassengerId, отвечающим за ID, и целевой переменной Transported вообще нет пропущенных значений."
   ]
  },
  {
   "cell_type": "markdown",
   "id": "a8c882f0",
   "metadata": {},
   "source": [
    "Однако, в данной работе все равно предлагается поработать с пропущенными значениями там, где это целесообразно. Прежде чем понять, каким способом мы будем заполнять пропущенные значения, необходимо проанализировать характер данных."
   ]
  },
  {
   "cell_type": "markdown",
   "id": "109e0930",
   "metadata": {},
   "source": [
    "<b>Numerical features</b>"
   ]
  },
  {
   "cell_type": "markdown",
   "id": "441a9b48",
   "metadata": {},
   "source": [
    "Для начала изучим распределение числовых переменных массива."
   ]
  },
  {
   "cell_type": "code",
   "execution_count": 9,
   "id": "9d729cc0",
   "metadata": {},
   "outputs": [
    {
     "data": {
      "text/html": [
       "<div>\n",
       "<style scoped>\n",
       "    .dataframe tbody tr th:only-of-type {\n",
       "        vertical-align: middle;\n",
       "    }\n",
       "\n",
       "    .dataframe tbody tr th {\n",
       "        vertical-align: top;\n",
       "    }\n",
       "\n",
       "    .dataframe thead th {\n",
       "        text-align: right;\n",
       "    }\n",
       "</style>\n",
       "<table border=\"1\" class=\"dataframe\">\n",
       "  <thead>\n",
       "    <tr style=\"text-align: right;\">\n",
       "      <th></th>\n",
       "      <th>Age</th>\n",
       "      <th>RoomService</th>\n",
       "      <th>FoodCourt</th>\n",
       "      <th>ShoppingMall</th>\n",
       "      <th>Spa</th>\n",
       "      <th>VRDeck</th>\n",
       "    </tr>\n",
       "  </thead>\n",
       "  <tbody>\n",
       "    <tr>\n",
       "      <th>count</th>\n",
       "      <td>8514.000000</td>\n",
       "      <td>8512.000000</td>\n",
       "      <td>8510.000000</td>\n",
       "      <td>8485.000000</td>\n",
       "      <td>8510.000000</td>\n",
       "      <td>8505.000000</td>\n",
       "    </tr>\n",
       "    <tr>\n",
       "      <th>mean</th>\n",
       "      <td>28.827930</td>\n",
       "      <td>224.687617</td>\n",
       "      <td>458.077203</td>\n",
       "      <td>173.729169</td>\n",
       "      <td>311.138778</td>\n",
       "      <td>304.854791</td>\n",
       "    </tr>\n",
       "    <tr>\n",
       "      <th>std</th>\n",
       "      <td>14.489021</td>\n",
       "      <td>666.717663</td>\n",
       "      <td>1611.489240</td>\n",
       "      <td>604.696458</td>\n",
       "      <td>1136.705535</td>\n",
       "      <td>1145.717189</td>\n",
       "    </tr>\n",
       "    <tr>\n",
       "      <th>min</th>\n",
       "      <td>0.000000</td>\n",
       "      <td>0.000000</td>\n",
       "      <td>0.000000</td>\n",
       "      <td>0.000000</td>\n",
       "      <td>0.000000</td>\n",
       "      <td>0.000000</td>\n",
       "    </tr>\n",
       "    <tr>\n",
       "      <th>25%</th>\n",
       "      <td>19.000000</td>\n",
       "      <td>0.000000</td>\n",
       "      <td>0.000000</td>\n",
       "      <td>0.000000</td>\n",
       "      <td>0.000000</td>\n",
       "      <td>0.000000</td>\n",
       "    </tr>\n",
       "    <tr>\n",
       "      <th>50%</th>\n",
       "      <td>27.000000</td>\n",
       "      <td>0.000000</td>\n",
       "      <td>0.000000</td>\n",
       "      <td>0.000000</td>\n",
       "      <td>0.000000</td>\n",
       "      <td>0.000000</td>\n",
       "    </tr>\n",
       "    <tr>\n",
       "      <th>75%</th>\n",
       "      <td>38.000000</td>\n",
       "      <td>47.000000</td>\n",
       "      <td>76.000000</td>\n",
       "      <td>27.000000</td>\n",
       "      <td>59.000000</td>\n",
       "      <td>46.000000</td>\n",
       "    </tr>\n",
       "    <tr>\n",
       "      <th>max</th>\n",
       "      <td>79.000000</td>\n",
       "      <td>14327.000000</td>\n",
       "      <td>29813.000000</td>\n",
       "      <td>23492.000000</td>\n",
       "      <td>22408.000000</td>\n",
       "      <td>24133.000000</td>\n",
       "    </tr>\n",
       "  </tbody>\n",
       "</table>\n",
       "</div>"
      ],
      "text/plain": [
       "               Age   RoomService     FoodCourt  ShoppingMall           Spa  \\\n",
       "count  8514.000000   8512.000000   8510.000000   8485.000000   8510.000000   \n",
       "mean     28.827930    224.687617    458.077203    173.729169    311.138778   \n",
       "std      14.489021    666.717663   1611.489240    604.696458   1136.705535   \n",
       "min       0.000000      0.000000      0.000000      0.000000      0.000000   \n",
       "25%      19.000000      0.000000      0.000000      0.000000      0.000000   \n",
       "50%      27.000000      0.000000      0.000000      0.000000      0.000000   \n",
       "75%      38.000000     47.000000     76.000000     27.000000     59.000000   \n",
       "max      79.000000  14327.000000  29813.000000  23492.000000  22408.000000   \n",
       "\n",
       "             VRDeck  \n",
       "count   8505.000000  \n",
       "mean     304.854791  \n",
       "std     1145.717189  \n",
       "min        0.000000  \n",
       "25%        0.000000  \n",
       "50%        0.000000  \n",
       "75%       46.000000  \n",
       "max    24133.000000  "
      ]
     },
     "execution_count": 9,
     "metadata": {},
     "output_type": "execute_result"
    }
   ],
   "source": [
    "df.describe()"
   ]
  },
  {
   "cell_type": "markdown",
   "id": "b478dae4",
   "metadata": {},
   "source": [
    "На основе данных о min и max значениях мы видим, что у переменных, отвечающих за расходы пассажиров, очень широкий разброс значений. Убедимся на 1 графике для переменной RoomService."
   ]
  },
  {
   "cell_type": "code",
   "execution_count": 10,
   "id": "e4a92d5b",
   "metadata": {},
   "outputs": [
    {
     "data": {
      "text/plain": [
       "<AxesSubplot:xlabel='RoomService', ylabel='Count'>"
      ]
     },
     "execution_count": 10,
     "metadata": {},
     "output_type": "execute_result"
    },
    {
     "data": {
      "image/png": "[encoded data removed]",
      "text/plain": [
       "<Figure size 720x504 with 1 Axes>"
      ]
     },
     "metadata": {
      "needs_background": "light"
     },
     "output_type": "display_data"
    }
   ],
   "source": [
    "fig, ax = plt.subplots(figsize=(10, 7))\n",
    "sns.histplot(x=df['RoomService'], bins = 100, ax=ax)"
   ]
  },
  {
   "cell_type": "markdown",
   "id": "93ae1a87",
   "metadata": {},
   "source": [
    "Для того, чтобы дальше было проще работать с данными о расходах, логарифмируем их, а также построим визуализации."
   ]
  },
  {
   "cell_type": "code",
   "execution_count": 11,
   "id": "f02a60b7",
   "metadata": {},
   "outputs": [],
   "source": [
    "numeric_features = list(df.select_dtypes(include=['float64']))\n",
    "spendings = list(df.select_dtypes(include=['float64']).drop(columns = 'Age'))"
   ]
  },
  {
   "cell_type": "code",
   "execution_count": 12,
   "id": "4c2398ff",
   "metadata": {},
   "outputs": [
    {
     "data": {
      "image/png": "[encoded data removed]",
      "text/plain": [
       "<Figure size 1080x1224 with 5 Axes>"
      ]
     },
     "metadata": {
      "needs_background": "light"
     },
     "output_type": "display_data"
    }
   ],
   "source": [
    "colors = ['#00B8A9', '#F19CBB']\n",
    "figure = plt.figure(figsize=(15, 17))\n",
    "for i in spendings:\n",
    "    ax = plt.subplot(3, 2, 1 + spendings.index(i))\n",
    "    ax = sns.histplot(x=np.log1p(df[i]), hue=df['Transported'], palette = colors)  #логарифмируем расходы\n",
    "    ax.set_title('Логарифм {}'.format(i))"
   ]
  },
  {
   "cell_type": "markdown",
   "id": "b4dd96e6",
   "metadata": {},
   "source": [
    "На графиках хорошо видно, что большая часть пассажиров совершенно не тратила деньги на доп. услуги, т.е. их расходы равнялись 0.<br>Попробуем посмотреть на распределение расходов только тех пассажиров, чьи расходы были не нулевые."
   ]
  },
  {
   "cell_type": "code",
   "execution_count": 13,
   "id": "7eb9da56",
   "metadata": {},
   "outputs": [
    {
     "data": {
      "image/png": "[encoded data removed]",
      "text/plain": [
       "<Figure size 1080x1224 with 5 Axes>"
      ]
     },
     "metadata": {
      "needs_background": "light"
     },
     "output_type": "display_data"
    }
   ],
   "source": [
    "colors = ['#00B8A9', '#F19CBB']\n",
    "figure = plt.figure(figsize=(15, 17))\n",
    "for i in spendings:\n",
    "    ax = plt.subplot(3, 2, 1 + spendings.index(i))\n",
    "    ax = sns.histplot(x=np.log1p(df[df[i]>0][i]), hue=df['Transported'], palette = colors)  #логарифмируем расходы\n",
    "    ax.set_title('Логарифм {}'.format(i))"
   ]
  },
  {
   "cell_type": "markdown",
   "id": "038914b6",
   "metadata": {},
   "source": [
    "Здесь мы уже видим, что распределение расходов пассажиров (с ненулевыми расходами) близко к нормальному. Более того, распределение всех типов расходов очень похожи между собой (имеют пик между в интервале логарифма расходов (6,8))."
   ]
  },
  {
   "cell_type": "markdown",
   "id": "f06e6101",
   "metadata": {},
   "source": [
    "Попробуем построить новую переменную итоговых расходов:"
   ]
  },
  {
   "cell_type": "code",
   "execution_count": 14,
   "id": "3df609cf",
   "metadata": {},
   "outputs": [],
   "source": [
    "df['TotalSpendings'] = df.loc[:,spendings].sum(axis=1)"
   ]
  },
  {
   "cell_type": "code",
   "execution_count": 15,
   "id": "2f6a37d7",
   "metadata": {},
   "outputs": [
    {
     "data": {
      "text/html": [
       "<div>\n",
       "<style scoped>\n",
       "    .dataframe tbody tr th:only-of-type {\n",
       "        vertical-align: middle;\n",
       "    }\n",
       "\n",
       "    .dataframe tbody tr th {\n",
       "        vertical-align: top;\n",
       "    }\n",
       "\n",
       "    .dataframe thead th {\n",
       "        text-align: right;\n",
       "    }\n",
       "</style>\n",
       "<table border=\"1\" class=\"dataframe\">\n",
       "  <thead>\n",
       "    <tr style=\"text-align: right;\">\n",
       "      <th></th>\n",
       "      <th>PassengerId</th>\n",
       "      <th>HomePlanet</th>\n",
       "      <th>CryoSleep</th>\n",
       "      <th>Cabin</th>\n",
       "      <th>Destination</th>\n",
       "      <th>Age</th>\n",
       "      <th>VIP</th>\n",
       "      <th>RoomService</th>\n",
       "      <th>FoodCourt</th>\n",
       "      <th>ShoppingMall</th>\n",
       "      <th>Spa</th>\n",
       "      <th>VRDeck</th>\n",
       "      <th>Name</th>\n",
       "      <th>Transported</th>\n",
       "      <th>TotalSpendings</th>\n",
       "    </tr>\n",
       "  </thead>\n",
       "  <tbody>\n",
       "    <tr>\n",
       "      <th>0</th>\n",
       "      <td>0001_01</td>\n",
       "      <td>Europa</td>\n",
       "      <td>False</td>\n",
       "      <td>B/0/P</td>\n",
       "      <td>TRAPPIST-1e</td>\n",
       "      <td>39.0</td>\n",
       "      <td>False</td>\n",
       "      <td>0.0</td>\n",
       "      <td>0.0</td>\n",
       "      <td>0.0</td>\n",
       "      <td>0.0</td>\n",
       "      <td>0.0</td>\n",
       "      <td>Maham Ofracculy</td>\n",
       "      <td>False</td>\n",
       "      <td>0.0</td>\n",
       "    </tr>\n",
       "    <tr>\n",
       "      <th>1</th>\n",
       "      <td>0002_01</td>\n",
       "      <td>Earth</td>\n",
       "      <td>False</td>\n",
       "      <td>F/0/S</td>\n",
       "      <td>TRAPPIST-1e</td>\n",
       "      <td>24.0</td>\n",
       "      <td>False</td>\n",
       "      <td>109.0</td>\n",
       "      <td>9.0</td>\n",
       "      <td>25.0</td>\n",
       "      <td>549.0</td>\n",
       "      <td>44.0</td>\n",
       "      <td>Juanna Vines</td>\n",
       "      <td>True</td>\n",
       "      <td>736.0</td>\n",
       "    </tr>\n",
       "    <tr>\n",
       "      <th>2</th>\n",
       "      <td>0003_01</td>\n",
       "      <td>Europa</td>\n",
       "      <td>False</td>\n",
       "      <td>A/0/S</td>\n",
       "      <td>TRAPPIST-1e</td>\n",
       "      <td>58.0</td>\n",
       "      <td>True</td>\n",
       "      <td>43.0</td>\n",
       "      <td>3576.0</td>\n",
       "      <td>0.0</td>\n",
       "      <td>6715.0</td>\n",
       "      <td>49.0</td>\n",
       "      <td>Altark Susent</td>\n",
       "      <td>False</td>\n",
       "      <td>10383.0</td>\n",
       "    </tr>\n",
       "    <tr>\n",
       "      <th>3</th>\n",
       "      <td>0003_02</td>\n",
       "      <td>Europa</td>\n",
       "      <td>False</td>\n",
       "      <td>A/0/S</td>\n",
       "      <td>TRAPPIST-1e</td>\n",
       "      <td>33.0</td>\n",
       "      <td>False</td>\n",
       "      <td>0.0</td>\n",
       "      <td>1283.0</td>\n",
       "      <td>371.0</td>\n",
       "      <td>3329.0</td>\n",
       "      <td>193.0</td>\n",
       "      <td>Solam Susent</td>\n",
       "      <td>False</td>\n",
       "      <td>5176.0</td>\n",
       "    </tr>\n",
       "    <tr>\n",
       "      <th>4</th>\n",
       "      <td>0004_01</td>\n",
       "      <td>Earth</td>\n",
       "      <td>False</td>\n",
       "      <td>F/1/S</td>\n",
       "      <td>TRAPPIST-1e</td>\n",
       "      <td>16.0</td>\n",
       "      <td>False</td>\n",
       "      <td>303.0</td>\n",
       "      <td>70.0</td>\n",
       "      <td>151.0</td>\n",
       "      <td>565.0</td>\n",
       "      <td>2.0</td>\n",
       "      <td>Willy Santantines</td>\n",
       "      <td>True</td>\n",
       "      <td>1091.0</td>\n",
       "    </tr>\n",
       "  </tbody>\n",
       "</table>\n",
       "</div>"
      ],
      "text/plain": [
       "  PassengerId HomePlanet CryoSleep  Cabin  Destination   Age    VIP  \\\n",
       "0     0001_01     Europa     False  B/0/P  TRAPPIST-1e  39.0  False   \n",
       "1     0002_01      Earth     False  F/0/S  TRAPPIST-1e  24.0  False   \n",
       "2     0003_01     Europa     False  A/0/S  TRAPPIST-1e  58.0   True   \n",
       "3     0003_02     Europa     False  A/0/S  TRAPPIST-1e  33.0  False   \n",
       "4     0004_01      Earth     False  F/1/S  TRAPPIST-1e  16.0  False   \n",
       "\n",
       "   RoomService  FoodCourt  ShoppingMall     Spa  VRDeck               Name  \\\n",
       "0          0.0        0.0           0.0     0.0     0.0    Maham Ofracculy   \n",
       "1        109.0        9.0          25.0   549.0    44.0       Juanna Vines   \n",
       "2         43.0     3576.0           0.0  6715.0    49.0      Altark Susent   \n",
       "3          0.0     1283.0         371.0  3329.0   193.0       Solam Susent   \n",
       "4        303.0       70.0         151.0   565.0     2.0  Willy Santantines   \n",
       "\n",
       "   Transported  TotalSpendings  \n",
       "0        False             0.0  \n",
       "1         True           736.0  \n",
       "2        False         10383.0  \n",
       "3        False          5176.0  \n",
       "4         True          1091.0  "
      ]
     },
     "execution_count": 15,
     "metadata": {},
     "output_type": "execute_result"
    }
   ],
   "source": [
    "df.head()"
   ]
  },
  {
   "cell_type": "code",
   "execution_count": 16,
   "id": "2a2bf020",
   "metadata": {},
   "outputs": [
    {
     "data": {
      "text/plain": [
       "<AxesSubplot:xlabel='TotalSpendings', ylabel='Count'>"
      ]
     },
     "execution_count": 16,
     "metadata": {},
     "output_type": "execute_result"
    },
    {
     "data": {
      "image/png": "[encoded data removed]",
      "text/plain": [
       "<Figure size 432x288 with 1 Axes>"
      ]
     },
     "metadata": {
      "needs_background": "light"
     },
     "output_type": "display_data"
    }
   ],
   "source": [
    "sns.histplot(x=df[df['TotalSpendings']>0]['TotalSpendings'], palette = colors)"
   ]
  },
  {
   "cell_type": "markdown",
   "id": "ab706599",
   "metadata": {},
   "source": [
    "Наконец, поработаем с выбросами в новой переменной."
   ]
  },
  {
   "cell_type": "markdown",
   "id": "28496325",
   "metadata": {},
   "source": [
    "<b>Поиск выбросов</b>"
   ]
  },
  {
   "cell_type": "markdown",
   "id": "676b1db6",
   "metadata": {},
   "source": [
    "Выбросы продолжим искать во вспомогательном массиве пассажиров с ненулевыми расходами."
   ]
  },
  {
   "cell_type": "code",
   "execution_count": 17,
   "id": "5f6c38d2",
   "metadata": {},
   "outputs": [],
   "source": [
    "df_not_null = df.loc[df['TotalSpendings']>0].copy() #создаем копию, чтобы избежать предупреждения SettingWithCopyWarning"
   ]
  },
  {
   "cell_type": "code",
   "execution_count": 18,
   "id": "025a8c93",
   "metadata": {},
   "outputs": [
    {
     "data": {
      "text/plain": [
       "(5040, 15)"
      ]
     },
     "execution_count": 18,
     "metadata": {},
     "output_type": "execute_result"
    }
   ],
   "source": [
    "df_not_null.shape"
   ]
  },
  {
   "cell_type": "code",
   "execution_count": 19,
   "id": "bb0190f9",
   "metadata": {},
   "outputs": [],
   "source": [
    "def find_anomaly(df = df_not_null, column = 'TotalSpendings'): \n",
    "    upper_level = df[column].mean() + 3 * df[column].std()\n",
    "    lower_level = df[column].mean() - 3 * df[column].std()\n",
    "    anomaly = df[(df[column] > upper_level) & (df[column] < lower_level)]\n",
    "    return upper_level, lower_level, anomaly"
   ]
  },
  {
   "cell_type": "code",
   "execution_count": 20,
   "id": "7c399231",
   "metadata": {},
   "outputs": [
    {
     "data": {
      "text/plain": [
       "(12415.655074650153,\n",
       " -7445.23801115809,\n",
       " Empty DataFrame\n",
       " Columns: [PassengerId, HomePlanet, CryoSleep, Cabin, Destination, Age, VIP, RoomService, FoodCourt, ShoppingMall, Spa, VRDeck, Name, Transported, TotalSpendings]\n",
       " Index: [])"
      ]
     },
     "execution_count": 20,
     "metadata": {},
     "output_type": "execute_result"
    }
   ],
   "source": [
    "anomaly = find_anomaly(df = df_not_null, column = 'TotalSpendings')\n",
    "anomaly"
   ]
  },
  {
   "cell_type": "code",
   "execution_count": 21,
   "id": "370ca146",
   "metadata": {},
   "outputs": [],
   "source": [
    "upper_level = df_not_null['TotalSpendings'].mean() + 3 * df_not_null['TotalSpendings'].std()\n",
    "lower_level = df_not_null['TotalSpendings'].mean() - 3 * df_not_null['TotalSpendings'].std()"
   ]
  },
  {
   "cell_type": "code",
   "execution_count": 22,
   "id": "36d1286b",
   "metadata": {},
   "outputs": [
    {
     "data": {
      "text/plain": [
       "12415.655074650153"
      ]
     },
     "execution_count": 22,
     "metadata": {},
     "output_type": "execute_result"
    }
   ],
   "source": [
    "upper_level"
   ]
  },
  {
   "cell_type": "code",
   "execution_count": 23,
   "id": "b0e5c4bb",
   "metadata": {},
   "outputs": [
    {
     "data": {
      "text/plain": [
       "-7445.23801115809"
      ]
     },
     "execution_count": 23,
     "metadata": {},
     "output_type": "execute_result"
    }
   ],
   "source": [
    "lower_level"
   ]
  },
  {
   "cell_type": "code",
   "execution_count": 24,
   "id": "b5533dac",
   "metadata": {},
   "outputs": [
    {
     "data": {
      "text/plain": [
       "Text(0.5, 1.0, '3 sigma')"
      ]
     },
     "execution_count": 24,
     "metadata": {},
     "output_type": "execute_result"
    },
    {
     "data": {
      "image/png": "[encoded data removed]",
      "text/plain": [
       "<Figure size 360x360 with 1 Axes>"
      ]
     },
     "metadata": {
      "needs_background": "light"
     },
     "output_type": "display_data"
    }
   ],
   "source": [
    "sns. displot (df_not_null['TotalSpendings'])\n",
    "plt.axvline(x = anomaly [0], color = 'g', linestyle = '-') #вертикальная линия параллельная оси X\n",
    "plt.axvline(x = anomaly [1], color = 'r', linestyle = '-')\n",
    "plt.title('3 sigma')"
   ]
  },
  {
   "cell_type": "markdown",
   "id": "f2b18ec6",
   "metadata": {},
   "source": [
    "Получили отрицательную левую границу, однако характер наших данных не подразумевает отрицательных значений, поэтому смотрим только на правую границу."
   ]
  },
  {
   "cell_type": "code",
   "execution_count": 25,
   "id": "40d26787",
   "metadata": {},
   "outputs": [
    {
     "data": {
      "text/html": [
       "<div>\n",
       "<style scoped>\n",
       "    .dataframe tbody tr th:only-of-type {\n",
       "        vertical-align: middle;\n",
       "    }\n",
       "\n",
       "    .dataframe tbody tr th {\n",
       "        vertical-align: top;\n",
       "    }\n",
       "\n",
       "    .dataframe thead th {\n",
       "        text-align: right;\n",
       "    }\n",
       "</style>\n",
       "<table border=\"1\" class=\"dataframe\">\n",
       "  <thead>\n",
       "    <tr style=\"text-align: right;\">\n",
       "      <th></th>\n",
       "      <th>PassengerId</th>\n",
       "      <th>HomePlanet</th>\n",
       "      <th>CryoSleep</th>\n",
       "      <th>Cabin</th>\n",
       "      <th>Destination</th>\n",
       "      <th>Age</th>\n",
       "      <th>VIP</th>\n",
       "      <th>RoomService</th>\n",
       "      <th>FoodCourt</th>\n",
       "      <th>ShoppingMall</th>\n",
       "      <th>Spa</th>\n",
       "      <th>VRDeck</th>\n",
       "      <th>Name</th>\n",
       "      <th>Transported</th>\n",
       "      <th>TotalSpendings</th>\n",
       "      <th>Anomaly_big</th>\n",
       "    </tr>\n",
       "  </thead>\n",
       "  <tbody>\n",
       "    <tr>\n",
       "      <th>73</th>\n",
       "      <td>0078_01</td>\n",
       "      <td>Europa</td>\n",
       "      <td>False</td>\n",
       "      <td>C/4/S</td>\n",
       "      <td>TRAPPIST-1e</td>\n",
       "      <td>38.0</td>\n",
       "      <td>False</td>\n",
       "      <td>0.0</td>\n",
       "      <td>5840.0</td>\n",
       "      <td>0.0</td>\n",
       "      <td>321.0</td>\n",
       "      <td>9654.0</td>\n",
       "      <td>Spuri Pokerheed</td>\n",
       "      <td>False</td>\n",
       "      <td>15815.0</td>\n",
       "      <td>1</td>\n",
       "    </tr>\n",
       "    <tr>\n",
       "      <th>105</th>\n",
       "      <td>0110_03</td>\n",
       "      <td>Europa</td>\n",
       "      <td>False</td>\n",
       "      <td>B/5/P</td>\n",
       "      <td>TRAPPIST-1e</td>\n",
       "      <td>42.0</td>\n",
       "      <td>False</td>\n",
       "      <td>2209.0</td>\n",
       "      <td>11418.0</td>\n",
       "      <td>0.0</td>\n",
       "      <td>1868.0</td>\n",
       "      <td>445.0</td>\n",
       "      <td>Alaratz Aloubtled</td>\n",
       "      <td>True</td>\n",
       "      <td>15940.0</td>\n",
       "      <td>1</td>\n",
       "    </tr>\n",
       "    <tr>\n",
       "      <th>154</th>\n",
       "      <td>0177_01</td>\n",
       "      <td>Europa</td>\n",
       "      <td>False</td>\n",
       "      <td>B/2/S</td>\n",
       "      <td>TRAPPIST-1e</td>\n",
       "      <td>38.0</td>\n",
       "      <td>False</td>\n",
       "      <td>0.0</td>\n",
       "      <td>10346.0</td>\n",
       "      <td>1.0</td>\n",
       "      <td>14970.0</td>\n",
       "      <td>2111.0</td>\n",
       "      <td>Toperon Iniouser</td>\n",
       "      <td>False</td>\n",
       "      <td>27428.0</td>\n",
       "      <td>1</td>\n",
       "    </tr>\n",
       "    <tr>\n",
       "      <th>358</th>\n",
       "      <td>0395_01</td>\n",
       "      <td>Europa</td>\n",
       "      <td>False</td>\n",
       "      <td>B/17/P</td>\n",
       "      <td>55 Cancri e</td>\n",
       "      <td>31.0</td>\n",
       "      <td>True</td>\n",
       "      <td>0.0</td>\n",
       "      <td>11003.0</td>\n",
       "      <td>552.0</td>\n",
       "      <td>8157.0</td>\n",
       "      <td>5688.0</td>\n",
       "      <td>Meropus Hervel</td>\n",
       "      <td>False</td>\n",
       "      <td>25400.0</td>\n",
       "      <td>1</td>\n",
       "    </tr>\n",
       "    <tr>\n",
       "      <th>375</th>\n",
       "      <td>0412_01</td>\n",
       "      <td>Europa</td>\n",
       "      <td>False</td>\n",
       "      <td>C/11/P</td>\n",
       "      <td>TRAPPIST-1e</td>\n",
       "      <td>60.0</td>\n",
       "      <td>False</td>\n",
       "      <td>0.0</td>\n",
       "      <td>7255.0</td>\n",
       "      <td>5952.0</td>\n",
       "      <td>1537.0</td>\n",
       "      <td>0.0</td>\n",
       "      <td>Baton Quelfly</td>\n",
       "      <td>True</td>\n",
       "      <td>14744.0</td>\n",
       "      <td>1</td>\n",
       "    </tr>\n",
       "    <tr>\n",
       "      <th>...</th>\n",
       "      <td>...</td>\n",
       "      <td>...</td>\n",
       "      <td>...</td>\n",
       "      <td>...</td>\n",
       "      <td>...</td>\n",
       "      <td>...</td>\n",
       "      <td>...</td>\n",
       "      <td>...</td>\n",
       "      <td>...</td>\n",
       "      <td>...</td>\n",
       "      <td>...</td>\n",
       "      <td>...</td>\n",
       "      <td>...</td>\n",
       "      <td>...</td>\n",
       "      <td>...</td>\n",
       "      <td>...</td>\n",
       "    </tr>\n",
       "    <tr>\n",
       "      <th>8442</th>\n",
       "      <td>9015_01</td>\n",
       "      <td>Europa</td>\n",
       "      <td>False</td>\n",
       "      <td>B/344/S</td>\n",
       "      <td>55 Cancri e</td>\n",
       "      <td>41.0</td>\n",
       "      <td>False</td>\n",
       "      <td>3.0</td>\n",
       "      <td>1320.0</td>\n",
       "      <td>0.0</td>\n",
       "      <td>0.0</td>\n",
       "      <td>12392.0</td>\n",
       "      <td>Nunkino Perable</td>\n",
       "      <td>False</td>\n",
       "      <td>13715.0</td>\n",
       "      <td>1</td>\n",
       "    </tr>\n",
       "    <tr>\n",
       "      <th>8459</th>\n",
       "      <td>9034_03</td>\n",
       "      <td>Europa</td>\n",
       "      <td>False</td>\n",
       "      <td>D/288/P</td>\n",
       "      <td>55 Cancri e</td>\n",
       "      <td>27.0</td>\n",
       "      <td>False</td>\n",
       "      <td>0.0</td>\n",
       "      <td>984.0</td>\n",
       "      <td>0.0</td>\n",
       "      <td>13995.0</td>\n",
       "      <td>312.0</td>\n",
       "      <td>Phecca Headmish</td>\n",
       "      <td>False</td>\n",
       "      <td>15291.0</td>\n",
       "      <td>1</td>\n",
       "    </tr>\n",
       "    <tr>\n",
       "      <th>8487</th>\n",
       "      <td>9069_05</td>\n",
       "      <td>Europa</td>\n",
       "      <td>False</td>\n",
       "      <td>B/297/P</td>\n",
       "      <td>55 Cancri e</td>\n",
       "      <td>29.0</td>\n",
       "      <td>False</td>\n",
       "      <td>0.0</td>\n",
       "      <td>12563.0</td>\n",
       "      <td>0.0</td>\n",
       "      <td>3.0</td>\n",
       "      <td>5057.0</td>\n",
       "      <td>Mirfark Taketiatim</td>\n",
       "      <td>False</td>\n",
       "      <td>17623.0</td>\n",
       "      <td>1</td>\n",
       "    </tr>\n",
       "    <tr>\n",
       "      <th>8588</th>\n",
       "      <td>9168_01</td>\n",
       "      <td>Europa</td>\n",
       "      <td>False</td>\n",
       "      <td>C/338/S</td>\n",
       "      <td>55 Cancri e</td>\n",
       "      <td>36.0</td>\n",
       "      <td>False</td>\n",
       "      <td>23.0</td>\n",
       "      <td>14773.0</td>\n",
       "      <td>0.0</td>\n",
       "      <td>1159.0</td>\n",
       "      <td>7819.0</td>\n",
       "      <td>Hadirk Cassiding</td>\n",
       "      <td>False</td>\n",
       "      <td>23774.0</td>\n",
       "      <td>1</td>\n",
       "    </tr>\n",
       "    <tr>\n",
       "      <th>8621</th>\n",
       "      <td>9197_02</td>\n",
       "      <td>Europa</td>\n",
       "      <td>False</td>\n",
       "      <td>C/308/P</td>\n",
       "      <td>NaN</td>\n",
       "      <td>41.0</td>\n",
       "      <td>True</td>\n",
       "      <td>0.0</td>\n",
       "      <td>7964.0</td>\n",
       "      <td>0.0</td>\n",
       "      <td>3238.0</td>\n",
       "      <td>5839.0</td>\n",
       "      <td>Aludram Platch</td>\n",
       "      <td>False</td>\n",
       "      <td>17041.0</td>\n",
       "      <td>1</td>\n",
       "    </tr>\n",
       "  </tbody>\n",
       "</table>\n",
       "<p>114 rows × 16 columns</p>\n",
       "</div>"
      ],
      "text/plain": [
       "     PassengerId HomePlanet CryoSleep    Cabin  Destination   Age    VIP  \\\n",
       "73       0078_01     Europa     False    C/4/S  TRAPPIST-1e  38.0  False   \n",
       "105      0110_03     Europa     False    B/5/P  TRAPPIST-1e  42.0  False   \n",
       "154      0177_01     Europa     False    B/2/S  TRAPPIST-1e  38.0  False   \n",
       "358      0395_01     Europa     False   B/17/P  55 Cancri e  31.0   True   \n",
       "375      0412_01     Europa     False   C/11/P  TRAPPIST-1e  60.0  False   \n",
       "...          ...        ...       ...      ...          ...   ...    ...   \n",
       "8442     9015_01     Europa     False  B/344/S  55 Cancri e  41.0  False   \n",
       "8459     9034_03     Europa     False  D/288/P  55 Cancri e  27.0  False   \n",
       "8487     9069_05     Europa     False  B/297/P  55 Cancri e  29.0  False   \n",
       "8588     9168_01     Europa     False  C/338/S  55 Cancri e  36.0  False   \n",
       "8621     9197_02     Europa     False  C/308/P          NaN  41.0   True   \n",
       "\n",
       "      RoomService  FoodCourt  ShoppingMall      Spa   VRDeck  \\\n",
       "73            0.0     5840.0           0.0    321.0   9654.0   \n",
       "105        2209.0    11418.0           0.0   1868.0    445.0   \n",
       "154           0.0    10346.0           1.0  14970.0   2111.0   \n",
       "358           0.0    11003.0         552.0   8157.0   5688.0   \n",
       "375           0.0     7255.0        5952.0   1537.0      0.0   \n",
       "...           ...        ...           ...      ...      ...   \n",
       "8442          3.0     1320.0           0.0      0.0  12392.0   \n",
       "8459          0.0      984.0           0.0  13995.0    312.0   \n",
       "8487          0.0    12563.0           0.0      3.0   5057.0   \n",
       "8588         23.0    14773.0           0.0   1159.0   7819.0   \n",
       "8621          0.0     7964.0           0.0   3238.0   5839.0   \n",
       "\n",
       "                    Name  Transported  TotalSpendings  Anomaly_big  \n",
       "73       Spuri Pokerheed        False         15815.0            1  \n",
       "105    Alaratz Aloubtled         True         15940.0            1  \n",
       "154     Toperon Iniouser        False         27428.0            1  \n",
       "358       Meropus Hervel        False         25400.0            1  \n",
       "375        Baton Quelfly         True         14744.0            1  \n",
       "...                  ...          ...             ...          ...  \n",
       "8442     Nunkino Perable        False         13715.0            1  \n",
       "8459     Phecca Headmish        False         15291.0            1  \n",
       "8487  Mirfark Taketiatim        False         17623.0            1  \n",
       "8588    Hadirk Cassiding        False         23774.0            1  \n",
       "8621      Aludram Platch        False         17041.0            1  \n",
       "\n",
       "[114 rows x 16 columns]"
      ]
     },
     "execution_count": 25,
     "metadata": {},
     "output_type": "execute_result"
    }
   ],
   "source": [
    "df_not_null['Anomaly_big'] = np.where(df_not_null['TotalSpendings'] > anomaly[0], 1, 0)\n",
    "df_not_null[df_not_null['Anomaly_big'] == 1]"
   ]
  },
  {
   "cell_type": "markdown",
   "id": "ffa544f5",
   "metadata": {},
   "source": [
    "Получили 114 выбросов, что не так уж и много, поэтому можем удалить данные строки. Важно отметить, что мы работали с копией массива (пассажиры с ненулевыми расходами), а строки необходимо удалить из исходного датафрейма. Для этого будем использовать мердж."
   ]
  },
  {
   "cell_type": "code",
   "execution_count": 26,
   "id": "53c14a22",
   "metadata": {},
   "outputs": [],
   "source": [
    "df_to_delete = df_not_null[df_not_null['Anomaly_big'] == 1]"
   ]
  },
  {
   "cell_type": "code",
   "execution_count": 27,
   "id": "c04da102",
   "metadata": {},
   "outputs": [
    {
     "data": {
      "text/plain": [
       "(114, 16)"
      ]
     },
     "execution_count": 27,
     "metadata": {},
     "output_type": "execute_result"
    }
   ],
   "source": [
    "df_to_delete.shape"
   ]
  },
  {
   "cell_type": "code",
   "execution_count": 28,
   "id": "b28e4dd4",
   "metadata": {},
   "outputs": [
    {
     "data": {
      "text/html": [
       "<div>\n",
       "<style scoped>\n",
       "    .dataframe tbody tr th:only-of-type {\n",
       "        vertical-align: middle;\n",
       "    }\n",
       "\n",
       "    .dataframe tbody tr th {\n",
       "        vertical-align: top;\n",
       "    }\n",
       "\n",
       "    .dataframe thead th {\n",
       "        text-align: right;\n",
       "    }\n",
       "</style>\n",
       "<table border=\"1\" class=\"dataframe\">\n",
       "  <thead>\n",
       "    <tr style=\"text-align: right;\">\n",
       "      <th></th>\n",
       "      <th>PassengerId</th>\n",
       "      <th>HomePlanet</th>\n",
       "      <th>CryoSleep</th>\n",
       "      <th>Cabin</th>\n",
       "      <th>Destination</th>\n",
       "      <th>Age</th>\n",
       "      <th>VIP</th>\n",
       "      <th>RoomService</th>\n",
       "      <th>FoodCourt</th>\n",
       "      <th>ShoppingMall</th>\n",
       "      <th>Spa</th>\n",
       "      <th>VRDeck</th>\n",
       "      <th>Name</th>\n",
       "      <th>Transported</th>\n",
       "      <th>TotalSpendings</th>\n",
       "      <th>_merge</th>\n",
       "    </tr>\n",
       "  </thead>\n",
       "  <tbody>\n",
       "    <tr>\n",
       "      <th>0</th>\n",
       "      <td>0001_01</td>\n",
       "      <td>Europa</td>\n",
       "      <td>False</td>\n",
       "      <td>B/0/P</td>\n",
       "      <td>TRAPPIST-1e</td>\n",
       "      <td>39.0</td>\n",
       "      <td>False</td>\n",
       "      <td>0.0</td>\n",
       "      <td>0.0</td>\n",
       "      <td>0.0</td>\n",
       "      <td>0.0</td>\n",
       "      <td>0.0</td>\n",
       "      <td>Maham Ofracculy</td>\n",
       "      <td>False</td>\n",
       "      <td>0.0</td>\n",
       "      <td>left_only</td>\n",
       "    </tr>\n",
       "    <tr>\n",
       "      <th>1</th>\n",
       "      <td>0002_01</td>\n",
       "      <td>Earth</td>\n",
       "      <td>False</td>\n",
       "      <td>F/0/S</td>\n",
       "      <td>TRAPPIST-1e</td>\n",
       "      <td>24.0</td>\n",
       "      <td>False</td>\n",
       "      <td>109.0</td>\n",
       "      <td>9.0</td>\n",
       "      <td>25.0</td>\n",
       "      <td>549.0</td>\n",
       "      <td>44.0</td>\n",
       "      <td>Juanna Vines</td>\n",
       "      <td>True</td>\n",
       "      <td>736.0</td>\n",
       "      <td>left_only</td>\n",
       "    </tr>\n",
       "    <tr>\n",
       "      <th>2</th>\n",
       "      <td>0003_01</td>\n",
       "      <td>Europa</td>\n",
       "      <td>False</td>\n",
       "      <td>A/0/S</td>\n",
       "      <td>TRAPPIST-1e</td>\n",
       "      <td>58.0</td>\n",
       "      <td>True</td>\n",
       "      <td>43.0</td>\n",
       "      <td>3576.0</td>\n",
       "      <td>0.0</td>\n",
       "      <td>6715.0</td>\n",
       "      <td>49.0</td>\n",
       "      <td>Altark Susent</td>\n",
       "      <td>False</td>\n",
       "      <td>10383.0</td>\n",
       "      <td>left_only</td>\n",
       "    </tr>\n",
       "    <tr>\n",
       "      <th>3</th>\n",
       "      <td>0003_02</td>\n",
       "      <td>Europa</td>\n",
       "      <td>False</td>\n",
       "      <td>A/0/S</td>\n",
       "      <td>TRAPPIST-1e</td>\n",
       "      <td>33.0</td>\n",
       "      <td>False</td>\n",
       "      <td>0.0</td>\n",
       "      <td>1283.0</td>\n",
       "      <td>371.0</td>\n",
       "      <td>3329.0</td>\n",
       "      <td>193.0</td>\n",
       "      <td>Solam Susent</td>\n",
       "      <td>False</td>\n",
       "      <td>5176.0</td>\n",
       "      <td>left_only</td>\n",
       "    </tr>\n",
       "    <tr>\n",
       "      <th>4</th>\n",
       "      <td>0004_01</td>\n",
       "      <td>Earth</td>\n",
       "      <td>False</td>\n",
       "      <td>F/1/S</td>\n",
       "      <td>TRAPPIST-1e</td>\n",
       "      <td>16.0</td>\n",
       "      <td>False</td>\n",
       "      <td>303.0</td>\n",
       "      <td>70.0</td>\n",
       "      <td>151.0</td>\n",
       "      <td>565.0</td>\n",
       "      <td>2.0</td>\n",
       "      <td>Willy Santantines</td>\n",
       "      <td>True</td>\n",
       "      <td>1091.0</td>\n",
       "      <td>left_only</td>\n",
       "    </tr>\n",
       "    <tr>\n",
       "      <th>...</th>\n",
       "      <td>...</td>\n",
       "      <td>...</td>\n",
       "      <td>...</td>\n",
       "      <td>...</td>\n",
       "      <td>...</td>\n",
       "      <td>...</td>\n",
       "      <td>...</td>\n",
       "      <td>...</td>\n",
       "      <td>...</td>\n",
       "      <td>...</td>\n",
       "      <td>...</td>\n",
       "      <td>...</td>\n",
       "      <td>...</td>\n",
       "      <td>...</td>\n",
       "      <td>...</td>\n",
       "      <td>...</td>\n",
       "    </tr>\n",
       "    <tr>\n",
       "      <th>8688</th>\n",
       "      <td>9276_01</td>\n",
       "      <td>Europa</td>\n",
       "      <td>False</td>\n",
       "      <td>A/98/P</td>\n",
       "      <td>55 Cancri e</td>\n",
       "      <td>41.0</td>\n",
       "      <td>True</td>\n",
       "      <td>0.0</td>\n",
       "      <td>6819.0</td>\n",
       "      <td>0.0</td>\n",
       "      <td>1643.0</td>\n",
       "      <td>74.0</td>\n",
       "      <td>Gravior Noxnuther</td>\n",
       "      <td>False</td>\n",
       "      <td>8536.0</td>\n",
       "      <td>left_only</td>\n",
       "    </tr>\n",
       "    <tr>\n",
       "      <th>8689</th>\n",
       "      <td>9278_01</td>\n",
       "      <td>Earth</td>\n",
       "      <td>True</td>\n",
       "      <td>G/1499/S</td>\n",
       "      <td>PSO J318.5-22</td>\n",
       "      <td>18.0</td>\n",
       "      <td>False</td>\n",
       "      <td>0.0</td>\n",
       "      <td>0.0</td>\n",
       "      <td>0.0</td>\n",
       "      <td>0.0</td>\n",
       "      <td>0.0</td>\n",
       "      <td>Kurta Mondalley</td>\n",
       "      <td>False</td>\n",
       "      <td>0.0</td>\n",
       "      <td>left_only</td>\n",
       "    </tr>\n",
       "    <tr>\n",
       "      <th>8690</th>\n",
       "      <td>9279_01</td>\n",
       "      <td>Earth</td>\n",
       "      <td>False</td>\n",
       "      <td>G/1500/S</td>\n",
       "      <td>TRAPPIST-1e</td>\n",
       "      <td>26.0</td>\n",
       "      <td>False</td>\n",
       "      <td>0.0</td>\n",
       "      <td>0.0</td>\n",
       "      <td>1872.0</td>\n",
       "      <td>1.0</td>\n",
       "      <td>0.0</td>\n",
       "      <td>Fayey Connon</td>\n",
       "      <td>True</td>\n",
       "      <td>1873.0</td>\n",
       "      <td>left_only</td>\n",
       "    </tr>\n",
       "    <tr>\n",
       "      <th>8691</th>\n",
       "      <td>9280_01</td>\n",
       "      <td>Europa</td>\n",
       "      <td>False</td>\n",
       "      <td>E/608/S</td>\n",
       "      <td>55 Cancri e</td>\n",
       "      <td>32.0</td>\n",
       "      <td>False</td>\n",
       "      <td>0.0</td>\n",
       "      <td>1049.0</td>\n",
       "      <td>0.0</td>\n",
       "      <td>353.0</td>\n",
       "      <td>3235.0</td>\n",
       "      <td>Celeon Hontichre</td>\n",
       "      <td>False</td>\n",
       "      <td>4637.0</td>\n",
       "      <td>left_only</td>\n",
       "    </tr>\n",
       "    <tr>\n",
       "      <th>8692</th>\n",
       "      <td>9280_02</td>\n",
       "      <td>Europa</td>\n",
       "      <td>False</td>\n",
       "      <td>E/608/S</td>\n",
       "      <td>TRAPPIST-1e</td>\n",
       "      <td>44.0</td>\n",
       "      <td>False</td>\n",
       "      <td>126.0</td>\n",
       "      <td>4688.0</td>\n",
       "      <td>0.0</td>\n",
       "      <td>0.0</td>\n",
       "      <td>12.0</td>\n",
       "      <td>Propsh Hontichre</td>\n",
       "      <td>True</td>\n",
       "      <td>4826.0</td>\n",
       "      <td>left_only</td>\n",
       "    </tr>\n",
       "  </tbody>\n",
       "</table>\n",
       "<p>8693 rows × 16 columns</p>\n",
       "</div>"
      ],
      "text/plain": [
       "     PassengerId HomePlanet CryoSleep     Cabin    Destination   Age    VIP  \\\n",
       "0        0001_01     Europa     False     B/0/P    TRAPPIST-1e  39.0  False   \n",
       "1        0002_01      Earth     False     F/0/S    TRAPPIST-1e  24.0  False   \n",
       "2        0003_01     Europa     False     A/0/S    TRAPPIST-1e  58.0   True   \n",
       "3        0003_02     Europa     False     A/0/S    TRAPPIST-1e  33.0  False   \n",
       "4        0004_01      Earth     False     F/1/S    TRAPPIST-1e  16.0  False   \n",
       "...          ...        ...       ...       ...            ...   ...    ...   \n",
       "8688     9276_01     Europa     False    A/98/P    55 Cancri e  41.0   True   \n",
       "8689     9278_01      Earth      True  G/1499/S  PSO J318.5-22  18.0  False   \n",
       "8690     9279_01      Earth     False  G/1500/S    TRAPPIST-1e  26.0  False   \n",
       "8691     9280_01     Europa     False   E/608/S    55 Cancri e  32.0  False   \n",
       "8692     9280_02     Europa     False   E/608/S    TRAPPIST-1e  44.0  False   \n",
       "\n",
       "      RoomService  FoodCourt  ShoppingMall     Spa  VRDeck               Name  \\\n",
       "0             0.0        0.0           0.0     0.0     0.0    Maham Ofracculy   \n",
       "1           109.0        9.0          25.0   549.0    44.0       Juanna Vines   \n",
       "2            43.0     3576.0           0.0  6715.0    49.0      Altark Susent   \n",
       "3             0.0     1283.0         371.0  3329.0   193.0       Solam Susent   \n",
       "4           303.0       70.0         151.0   565.0     2.0  Willy Santantines   \n",
       "...           ...        ...           ...     ...     ...                ...   \n",
       "8688          0.0     6819.0           0.0  1643.0    74.0  Gravior Noxnuther   \n",
       "8689          0.0        0.0           0.0     0.0     0.0    Kurta Mondalley   \n",
       "8690          0.0        0.0        1872.0     1.0     0.0       Fayey Connon   \n",
       "8691          0.0     1049.0           0.0   353.0  3235.0   Celeon Hontichre   \n",
       "8692        126.0     4688.0           0.0     0.0    12.0   Propsh Hontichre   \n",
       "\n",
       "      Transported  TotalSpendings     _merge  \n",
       "0           False             0.0  left_only  \n",
       "1            True           736.0  left_only  \n",
       "2           False         10383.0  left_only  \n",
       "3           False          5176.0  left_only  \n",
       "4            True          1091.0  left_only  \n",
       "...           ...             ...        ...  \n",
       "8688        False          8536.0  left_only  \n",
       "8689        False             0.0  left_only  \n",
       "8690         True          1873.0  left_only  \n",
       "8691        False          4637.0  left_only  \n",
       "8692         True          4826.0  left_only  \n",
       "\n",
       "[8693 rows x 16 columns]"
      ]
     },
     "execution_count": 28,
     "metadata": {},
     "output_type": "execute_result"
    }
   ],
   "source": [
    "df2 = df.merge(df_to_delete.PassengerId, \n",
    "                   how='left', indicator=True)\n",
    "df2"
   ]
  },
  {
   "cell_type": "code",
   "execution_count": 29,
   "id": "c0c72920",
   "metadata": {},
   "outputs": [
    {
     "data": {
      "text/plain": [
       "(8579, 15)"
      ]
     },
     "execution_count": 29,
     "metadata": {},
     "output_type": "execute_result"
    }
   ],
   "source": [
    "df2 = df2.loc[df2._merge=='left_only',df2.columns!='_merge']\n",
    "df2.shape"
   ]
  },
  {
   "cell_type": "markdown",
   "id": "4e398b0d",
   "metadata": {},
   "source": [
    "Получили новый массив df2 с очищенными выбросами по переменным с расходами пассажиров на доп. услуги.<br>\n",
    "Теперь посмотрим на признак Age."
   ]
  },
  {
   "cell_type": "code",
   "execution_count": 30,
   "id": "0357b115",
   "metadata": {},
   "outputs": [
    {
     "data": {
      "text/plain": [
       "Text(0.5, 1.0, 'Age')"
      ]
     },
     "execution_count": 30,
     "metadata": {},
     "output_type": "execute_result"
    },
    {
     "data": {
      "image/png": "[encoded data removed]",
      "text/plain": [
       "<Figure size 504x288 with 1 Axes>"
      ]
     },
     "metadata": {
      "needs_background": "light"
     },
     "output_type": "display_data"
    }
   ],
   "source": [
    "figure = plt.figure(figsize=(7, 4))\n",
    "\n",
    "sns.histplot(x='Age', hue='Transported', data=df2, bins=20, multiple=\"stack\", kde=True, palette = colors) #данные о возрасте не логарифмируем\n",
    "ax.set_title('Age')"
   ]
  },
  {
   "cell_type": "markdown",
   "id": "c19b5bfe",
   "metadata": {},
   "source": [
    "Распределение возраста похоже на нормальное, хотя смещено влево и имеет еще один пик с левого края (возможно, на борту было много пассажиров с детьми-младенцами). Также видим определенную зависимость целевой переменной Transported от возраста - действительно, в диапазоне 0-10 лет высокий % перенесенных пассажиров. Получается, что дети легче переносились, чем взрослые. <br>Также посмотрим на график, который поможет нам определить выбросы."
   ]
  },
  {
   "cell_type": "code",
   "execution_count": 31,
   "id": "e253c317",
   "metadata": {},
   "outputs": [
    {
     "data": {
      "text/plain": [
       "<AxesSubplot:xlabel='Transported', ylabel='Age'>"
      ]
     },
     "execution_count": 31,
     "metadata": {},
     "output_type": "execute_result"
    },
    {
     "data": {
      "image/png": "[encoded data removed]",
      "text/plain": [
       "<Figure size 432x288 with 1 Axes>"
      ]
     },
     "metadata": {
      "needs_background": "light"
     },
     "output_type": "display_data"
    }
   ],
   "source": [
    "sns.boxplot(x='Transported', y='Age', data=df2, palette=colors)"
   ]
  },
  {
   "cell_type": "markdown",
   "id": "237ea6c4",
   "metadata": {},
   "source": [
    "Действительно видим, что имеются выбросы по верхней границе. Аналогичным образом воспользуемся методом 3 сигм для их выявления."
   ]
  },
  {
   "cell_type": "code",
   "execution_count": 32,
   "id": "a30cfbae",
   "metadata": {},
   "outputs": [],
   "source": [
    "upper_level_Age = df2['Age'].mean() + 3 * df2['Age'].std()"
   ]
  },
  {
   "cell_type": "code",
   "execution_count": 33,
   "id": "4417b72a",
   "metadata": {},
   "outputs": [
    {
     "data": {
      "text/plain": [
       "(25, 15)"
      ]
     },
     "execution_count": 33,
     "metadata": {},
     "output_type": "execute_result"
    }
   ],
   "source": [
    "df_to_delete = df2[df2.Age>upper_level_Age]\n",
    "df_to_delete.shape"
   ]
  },
  {
   "cell_type": "code",
   "execution_count": 34,
   "id": "4c563243",
   "metadata": {},
   "outputs": [
    {
     "data": {
      "text/plain": [
       "(8554, 15)"
      ]
     },
     "execution_count": 34,
     "metadata": {},
     "output_type": "execute_result"
    }
   ],
   "source": [
    "df3 = df2.merge(df_to_delete.PassengerId, \n",
    "                   how='left', indicator=True)\n",
    "df3 = df3.loc[df3._merge=='left_only',df3.columns!='_merge'].reset_index().drop(columns = 'index')\n",
    "df3.shape"
   ]
  },
  {
   "cell_type": "markdown",
   "id": "3f9d7835",
   "metadata": {},
   "source": [
    "Таким образом, мы изучили характер распределения числовых переменных и поработали с выбросами в данных. Далее приступим к работе с пропущенными значениями."
   ]
  },
  {
   "cell_type": "markdown",
   "id": "5e0870b5",
   "metadata": {},
   "source": [
    "<b>Замена пропущенных значений</b>"
   ]
  },
  {
   "cell_type": "code",
   "execution_count": 35,
   "id": "cb22efc6",
   "metadata": {},
   "outputs": [
    {
     "data": {
      "text/html": [
       "<div>\n",
       "<style scoped>\n",
       "    .dataframe tbody tr th:only-of-type {\n",
       "        vertical-align: middle;\n",
       "    }\n",
       "\n",
       "    .dataframe tbody tr th {\n",
       "        vertical-align: top;\n",
       "    }\n",
       "\n",
       "    .dataframe thead th {\n",
       "        text-align: right;\n",
       "    }\n",
       "</style>\n",
       "<table border=\"1\" class=\"dataframe\">\n",
       "  <thead>\n",
       "    <tr style=\"text-align: right;\">\n",
       "      <th></th>\n",
       "      <th>Age</th>\n",
       "      <th>RoomService</th>\n",
       "      <th>FoodCourt</th>\n",
       "      <th>ShoppingMall</th>\n",
       "      <th>Spa</th>\n",
       "      <th>VRDeck</th>\n",
       "      <th>TotalSpendings</th>\n",
       "    </tr>\n",
       "  </thead>\n",
       "  <tbody>\n",
       "    <tr>\n",
       "      <th>count</th>\n",
       "      <td>8378.000000</td>\n",
       "      <td>8376.000000</td>\n",
       "      <td>8373.000000</td>\n",
       "      <td>8348.000000</td>\n",
       "      <td>8374.000000</td>\n",
       "      <td>8366.000000</td>\n",
       "      <td>8554.000000</td>\n",
       "    </tr>\n",
       "    <tr>\n",
       "      <th>mean</th>\n",
       "      <td>28.585581</td>\n",
       "      <td>219.516476</td>\n",
       "      <td>352.535770</td>\n",
       "      <td>167.422257</td>\n",
       "      <td>252.657153</td>\n",
       "      <td>249.487688</td>\n",
       "      <td>1214.760112</td>\n",
       "    </tr>\n",
       "    <tr>\n",
       "      <th>std</th>\n",
       "      <td>14.296754</td>\n",
       "      <td>626.979537</td>\n",
       "      <td>1092.063289</td>\n",
       "      <td>507.726497</td>\n",
       "      <td>822.219595</td>\n",
       "      <td>852.248868</td>\n",
       "      <td>1955.415610</td>\n",
       "    </tr>\n",
       "    <tr>\n",
       "      <th>min</th>\n",
       "      <td>0.000000</td>\n",
       "      <td>0.000000</td>\n",
       "      <td>0.000000</td>\n",
       "      <td>0.000000</td>\n",
       "      <td>0.000000</td>\n",
       "      <td>0.000000</td>\n",
       "      <td>0.000000</td>\n",
       "    </tr>\n",
       "    <tr>\n",
       "      <th>25%</th>\n",
       "      <td>19.000000</td>\n",
       "      <td>0.000000</td>\n",
       "      <td>0.000000</td>\n",
       "      <td>0.000000</td>\n",
       "      <td>0.000000</td>\n",
       "      <td>0.000000</td>\n",
       "      <td>0.000000</td>\n",
       "    </tr>\n",
       "    <tr>\n",
       "      <th>50%</th>\n",
       "      <td>27.000000</td>\n",
       "      <td>0.000000</td>\n",
       "      <td>0.000000</td>\n",
       "      <td>0.000000</td>\n",
       "      <td>0.000000</td>\n",
       "      <td>0.000000</td>\n",
       "      <td>706.000000</td>\n",
       "    </tr>\n",
       "    <tr>\n",
       "      <th>75%</th>\n",
       "      <td>37.000000</td>\n",
       "      <td>47.000000</td>\n",
       "      <td>53.000000</td>\n",
       "      <td>27.000000</td>\n",
       "      <td>49.000000</td>\n",
       "      <td>36.750000</td>\n",
       "      <td>1368.000000</td>\n",
       "    </tr>\n",
       "    <tr>\n",
       "      <th>max</th>\n",
       "      <td>72.000000</td>\n",
       "      <td>9920.000000</td>\n",
       "      <td>12077.000000</td>\n",
       "      <td>9058.000000</td>\n",
       "      <td>10976.000000</td>\n",
       "      <td>12143.000000</td>\n",
       "      <td>12386.000000</td>\n",
       "    </tr>\n",
       "  </tbody>\n",
       "</table>\n",
       "</div>"
      ],
      "text/plain": [
       "               Age  RoomService     FoodCourt  ShoppingMall           Spa  \\\n",
       "count  8378.000000  8376.000000   8373.000000   8348.000000   8374.000000   \n",
       "mean     28.585581   219.516476    352.535770    167.422257    252.657153   \n",
       "std      14.296754   626.979537   1092.063289    507.726497    822.219595   \n",
       "min       0.000000     0.000000      0.000000      0.000000      0.000000   \n",
       "25%      19.000000     0.000000      0.000000      0.000000      0.000000   \n",
       "50%      27.000000     0.000000      0.000000      0.000000      0.000000   \n",
       "75%      37.000000    47.000000     53.000000     27.000000     49.000000   \n",
       "max      72.000000  9920.000000  12077.000000   9058.000000  10976.000000   \n",
       "\n",
       "             VRDeck  TotalSpendings  \n",
       "count   8366.000000     8554.000000  \n",
       "mean     249.487688     1214.760112  \n",
       "std      852.248868     1955.415610  \n",
       "min        0.000000        0.000000  \n",
       "25%        0.000000        0.000000  \n",
       "50%        0.000000      706.000000  \n",
       "75%       36.750000     1368.000000  \n",
       "max    12143.000000    12386.000000  "
      ]
     },
     "execution_count": 35,
     "metadata": {},
     "output_type": "execute_result"
    }
   ],
   "source": [
    "df3.describe()"
   ]
  },
  {
   "cell_type": "code",
   "execution_count": 36,
   "id": "9e93feb5",
   "metadata": {},
   "outputs": [
    {
     "name": "stdout",
     "output_type": "stream",
     "text": [
      "Медиана столбца RoomService равна 0.0\n",
      "Медиана столбца FoodCourt равна 0.0\n",
      "Медиана столбца ShoppingMall равна 0.0\n",
      "Медиана столбца Spa равна 0.0\n",
      "Медиана столбца VRDeck равна 0.0\n"
     ]
    }
   ],
   "source": [
    "for i in spendings:\n",
    "    print('Медиана столбца {} равна {}'.format(i,df3[i].median()))"
   ]
  },
  {
   "cell_type": "markdown",
   "id": "8733f044",
   "metadata": {},
   "source": [
    "Шаг 1. Заменим пропуски в числовых переменных. После того, как мы очистили данные от выбросов, которые могут смещать статистики, для возраста теперь мы можем использовать среднее.<br>\n",
    "Для расходов предлагается использовать медианное значение, равное 0, поскольку значительная доля пассажиров, как мы выяснили ранее, не тратила на доп. услуги."
   ]
  },
  {
   "cell_type": "code",
   "execution_count": 37,
   "id": "03319789",
   "metadata": {},
   "outputs": [
    {
     "name": "stdout",
     "output_type": "stream",
     "text": [
      "В переменной \u001b[1mAge\u001b[0m 176 пропущенных значений были заменены на значение 28.6\n",
      "В переменной \u001b[1mRoomService\u001b[0m 178 пропущенных значений были заменены на значение 0.0\n",
      "В переменной \u001b[1mFoodCourt\u001b[0m 181 пропущенных значений были заменены на значение 0.0\n",
      "В переменной \u001b[1mShoppingMall\u001b[0m 206 пропущенных значений были заменены на значение 0.0\n",
      "В переменной \u001b[1mSpa\u001b[0m 180 пропущенных значений были заменены на значение 0.0\n",
      "В переменной \u001b[1mVRDeck\u001b[0m 188 пропущенных значений были заменены на значение 0.0\n"
     ]
    }
   ],
   "source": [
    "for i in numeric_features:\n",
    "    count_null = df3[i].isnull().sum()\n",
    "    if i == \"Age\":\n",
    "        imp_value = df3[i].mean()\n",
    "    else:\n",
    "        imp_value = df3[i].median()\n",
    "    df3[i] = df3[i].fillna(imp_value)\n",
    "    print('В переменной \\033[1m{}\\033[0m {} пропущенных значений были заменены на значение {}'.format(i,count_null,round(imp_value,1)))"
   ]
  },
  {
   "cell_type": "markdown",
   "id": "f1a4dc64",
   "metadata": {},
   "source": [
    "Проверим, что среди числовых переменных не осталось пропусков:"
   ]
  },
  {
   "cell_type": "code",
   "execution_count": 38,
   "id": "391125fb",
   "metadata": {},
   "outputs": [
    {
     "data": {
      "text/plain": [
       "PassengerId       0.000000\n",
       "HomePlanet        2.314707\n",
       "CryoSleep         2.501754\n",
       "Cabin             2.267945\n",
       "Destination       2.104279\n",
       "Age               0.000000\n",
       "VIP               2.338087\n",
       "RoomService       0.000000\n",
       "FoodCourt         0.000000\n",
       "ShoppingMall      0.000000\n",
       "Spa               0.000000\n",
       "VRDeck            0.000000\n",
       "Name              2.279635\n",
       "Transported       0.000000\n",
       "TotalSpendings    0.000000\n",
       "dtype: float64"
      ]
     },
     "execution_count": 38,
     "metadata": {},
     "output_type": "execute_result"
    }
   ],
   "source": [
    "df3.isnull().sum()/len(df3)*100"
   ]
  },
  {
   "cell_type": "markdown",
   "id": "0290c943",
   "metadata": {},
   "source": [
    "Шаг 2. Одним из методов работы с пропущенными данными строкового типа является мода. При этом необходимо подчеркнуть, что заменять данные в столбцах Cabin и Name не логично на данном этапе как с точки зрения смысла (например, заполнять пропуски данных по имени не имеет практической пользы), так и технически (так как принимают большое кол-во уникальных значений)."
   ]
  },
  {
   "cell_type": "code",
   "execution_count": 39,
   "id": "637ee756",
   "metadata": {},
   "outputs": [],
   "source": [
    "categorical_features = df3.select_dtypes(include=['object']).drop(columns=['Name','Cabin','PassengerId'])"
   ]
  },
  {
   "cell_type": "code",
   "execution_count": 40,
   "id": "3d2f1101",
   "metadata": {},
   "outputs": [
    {
     "data": {
      "text/html": [
       "<div>\n",
       "<style scoped>\n",
       "    .dataframe tbody tr th:only-of-type {\n",
       "        vertical-align: middle;\n",
       "    }\n",
       "\n",
       "    .dataframe tbody tr th {\n",
       "        vertical-align: top;\n",
       "    }\n",
       "\n",
       "    .dataframe thead th {\n",
       "        text-align: right;\n",
       "    }\n",
       "</style>\n",
       "<table border=\"1\" class=\"dataframe\">\n",
       "  <thead>\n",
       "    <tr style=\"text-align: right;\">\n",
       "      <th></th>\n",
       "      <th>HomePlanet</th>\n",
       "      <th>CryoSleep</th>\n",
       "      <th>Destination</th>\n",
       "      <th>VIP</th>\n",
       "    </tr>\n",
       "  </thead>\n",
       "  <tbody>\n",
       "    <tr>\n",
       "      <th>0</th>\n",
       "      <td>Europa</td>\n",
       "      <td>False</td>\n",
       "      <td>TRAPPIST-1e</td>\n",
       "      <td>False</td>\n",
       "    </tr>\n",
       "    <tr>\n",
       "      <th>1</th>\n",
       "      <td>Earth</td>\n",
       "      <td>False</td>\n",
       "      <td>TRAPPIST-1e</td>\n",
       "      <td>False</td>\n",
       "    </tr>\n",
       "    <tr>\n",
       "      <th>2</th>\n",
       "      <td>Europa</td>\n",
       "      <td>False</td>\n",
       "      <td>TRAPPIST-1e</td>\n",
       "      <td>True</td>\n",
       "    </tr>\n",
       "    <tr>\n",
       "      <th>3</th>\n",
       "      <td>Europa</td>\n",
       "      <td>False</td>\n",
       "      <td>TRAPPIST-1e</td>\n",
       "      <td>False</td>\n",
       "    </tr>\n",
       "    <tr>\n",
       "      <th>4</th>\n",
       "      <td>Earth</td>\n",
       "      <td>False</td>\n",
       "      <td>TRAPPIST-1e</td>\n",
       "      <td>False</td>\n",
       "    </tr>\n",
       "  </tbody>\n",
       "</table>\n",
       "</div>"
      ],
      "text/plain": [
       "  HomePlanet CryoSleep  Destination    VIP\n",
       "0     Europa     False  TRAPPIST-1e  False\n",
       "1      Earth     False  TRAPPIST-1e  False\n",
       "2     Europa     False  TRAPPIST-1e   True\n",
       "3     Europa     False  TRAPPIST-1e  False\n",
       "4      Earth     False  TRAPPIST-1e  False"
      ]
     },
     "execution_count": 40,
     "metadata": {},
     "output_type": "execute_result"
    }
   ],
   "source": [
    "categorical_features.head()"
   ]
  },
  {
   "cell_type": "code",
   "execution_count": 41,
   "id": "bbee8bb3",
   "metadata": {},
   "outputs": [
    {
     "name": "stdout",
     "output_type": "stream",
     "text": [
      "В переменной \u001b[1mHomePlanet\u001b[0m 198 пропущенных значений были заменены на значение Earth\n",
      "В переменной \u001b[1mCryoSleep\u001b[0m 214 пропущенных значений были заменены на значение False\n",
      "В переменной \u001b[1mDestination\u001b[0m 180 пропущенных значений были заменены на значение TRAPPIST-1e\n",
      "В переменной \u001b[1mVIP\u001b[0m 200 пропущенных значений были заменены на значение False\n"
     ]
    }
   ],
   "source": [
    "for i in categorical_features:\n",
    "    count_null = df3[i].isnull().sum()\n",
    "    input_value = df3[i].mode()[0]\n",
    "    df3[i] = df3[i].fillna(input_value)\n",
    "    print('В переменной \\033[1m{}\\033[0m {} пропущенных значений были заменены на значение {}'.format(i,count_null,input_value))"
   ]
  },
  {
   "cell_type": "code",
   "execution_count": 42,
   "id": "baefa76b",
   "metadata": {},
   "outputs": [],
   "source": [
    "df3.Cabin = df3.Cabin.fillna(0)"
   ]
  },
  {
   "cell_type": "code",
   "execution_count": 43,
   "id": "bfb3021c",
   "metadata": {},
   "outputs": [],
   "source": [
    "df3.Name = df3.Name.fillna(0)"
   ]
  },
  {
   "cell_type": "code",
   "execution_count": 44,
   "id": "7a488c09",
   "metadata": {},
   "outputs": [
    {
     "data": {
      "text/plain": [
       "PassengerId       0.0\n",
       "HomePlanet        0.0\n",
       "CryoSleep         0.0\n",
       "Cabin             0.0\n",
       "Destination       0.0\n",
       "Age               0.0\n",
       "VIP               0.0\n",
       "RoomService       0.0\n",
       "FoodCourt         0.0\n",
       "ShoppingMall      0.0\n",
       "Spa               0.0\n",
       "VRDeck            0.0\n",
       "Name              0.0\n",
       "Transported       0.0\n",
       "TotalSpendings    0.0\n",
       "dtype: float64"
      ]
     },
     "execution_count": 44,
     "metadata": {},
     "output_type": "execute_result"
    }
   ],
   "source": [
    "df3.isnull().sum()/len(df3)*100"
   ]
  },
  {
   "cell_type": "code",
   "execution_count": 45,
   "id": "749f6330",
   "metadata": {},
   "outputs": [
    {
     "name": "stdout",
     "output_type": "stream",
     "text": [
      "<class 'pandas.core.frame.DataFrame'>\n",
      "RangeIndex: 8554 entries, 0 to 8553\n",
      "Data columns (total 15 columns):\n",
      " #   Column          Non-Null Count  Dtype  \n",
      "---  ------          --------------  -----  \n",
      " 0   PassengerId     8554 non-null   object \n",
      " 1   HomePlanet      8554 non-null   object \n",
      " 2   CryoSleep       8554 non-null   bool   \n",
      " 3   Cabin           8554 non-null   object \n",
      " 4   Destination     8554 non-null   object \n",
      " 5   Age             8554 non-null   float64\n",
      " 6   VIP             8554 non-null   bool   \n",
      " 7   RoomService     8554 non-null   float64\n",
      " 8   FoodCourt       8554 non-null   float64\n",
      " 9   ShoppingMall    8554 non-null   float64\n",
      " 10  Spa             8554 non-null   float64\n",
      " 11  VRDeck          8554 non-null   float64\n",
      " 12  Name            8554 non-null   object \n",
      " 13  Transported     8554 non-null   bool   \n",
      " 14  TotalSpendings  8554 non-null   float64\n",
      "dtypes: bool(3), float64(7), object(5)\n",
      "memory usage: 827.1+ KB\n"
     ]
    }
   ],
   "source": [
    "df3.info()"
   ]
  },
  {
   "cell_type": "markdown",
   "id": "91ce1150",
   "metadata": {},
   "source": [
    "Обратим внимание, что после заполнения пропущенных значений, переменные CryoSleep и VIP стали булевого типа, так как больше нет значений NaN из-за которых тип данных был object."
   ]
  },
  {
   "cell_type": "markdown",
   "id": "d541d143",
   "metadata": {},
   "source": [
    "Теперь, когда мы ознакомились с массивом и поработали с пропущенными значениями, перейдем к детальному изучению датасета."
   ]
  },
  {
   "cell_type": "markdown",
   "id": "a0f650c5",
   "metadata": {},
   "source": [
    "<b>Детальное изучение переменных и взаимосвязей.</b>"
   ]
  },
  {
   "cell_type": "code",
   "execution_count": 46,
   "id": "80355f25",
   "metadata": {},
   "outputs": [
    {
     "data": {
      "image/png": "[encoded data removed]",
      "text/plain": [
       "<Figure size 720x504 with 2 Axes>"
      ]
     },
     "metadata": {
      "needs_background": "light"
     },
     "output_type": "display_data"
    }
   ],
   "source": [
    "corr_m = df3.corr()\n",
    "\n",
    "fig = plt.figure(figsize=(10, 7))\n",
    "corr_m = sns.heatmap(corr_m, annot=True,\n",
    "                 linecolor = 'white',\n",
    "                 linewidth = 1,\n",
    "                 cmap = 'Purples',\n",
    "                 vmin=-1., \n",
    "                 vmax=1.,\n",
    "                 fmt=\".2f\",\n",
    "                 )"
   ]
  },
  {
   "cell_type": "markdown",
   "id": "5743a24c",
   "metadata": {},
   "source": [
    "Корреляционная матрица не позволяет нам сделать большое количество выводов, поскольку все значения лежат практически в одном диапазоне. Однако, можно заметить, что целевая переменная Transported сильно коррелирует с переменной CryoSleep. И, конечно же, переменные по расходам коррелируют с общими расходами (TotalSpendings), что очевидно. "
   ]
  },
  {
   "cell_type": "markdown",
   "id": "3f24d6cc",
   "metadata": {},
   "source": [
    "Начнем с изучения целевой переменной <b>Transported</b>."
   ]
  },
  {
   "cell_type": "code",
   "execution_count": 47,
   "id": "85d96183",
   "metadata": {},
   "outputs": [
    {
     "data": {
      "text/plain": [
       "True     4336\n",
       "False    4218\n",
       "Name: Transported, dtype: int64"
      ]
     },
     "execution_count": 47,
     "metadata": {},
     "output_type": "execute_result"
    }
   ],
   "source": [
    "df3.Transported.value_counts()"
   ]
  },
  {
   "cell_type": "markdown",
   "id": "5eae0c2d",
   "metadata": {},
   "source": [
    "Видим, что пропорция траспортированных и нетранпортированных пассажиров, примерно 50/50. Убедимся в этом, построив визуализацию."
   ]
  },
  {
   "cell_type": "code",
   "execution_count": 48,
   "id": "4d454699",
   "metadata": {},
   "outputs": [
    {
     "data": {
      "text/plain": [
       "<AxesSubplot:title={'center':'Доля траспортированных и нетранпортированных пассажиров'}, ylabel='Transported'>"
      ]
     },
     "execution_count": 48,
     "metadata": {},
     "output_type": "execute_result"
    },
    {
     "data": {
      "image/png": "[encoded data removed]",
      "text/plain": [
       "<Figure size 504x288 with 1 Axes>"
      ]
     },
     "metadata": {},
     "output_type": "display_data"
    }
   ],
   "source": [
    "df3['Transported'].value_counts().plot(kind='pie', figsize = (7,4),\n",
    "                                                   colors = colors, title = 'Доля траспортированных и нетранпортированных пассажиров', \n",
    "                                                   autopct = '%.1f%%')"
   ]
  },
  {
   "cell_type": "markdown",
   "id": "2a7bf2a9",
   "metadata": {},
   "source": [
    "<b>HomePlanet</b>"
   ]
  },
  {
   "cell_type": "code",
   "execution_count": 49,
   "id": "8d37781a",
   "metadata": {},
   "outputs": [
    {
     "data": {
      "text/plain": [
       "Earth     4788\n",
       "Europa    2012\n",
       "Mars      1754\n",
       "Name: HomePlanet, dtype: int64"
      ]
     },
     "execution_count": 49,
     "metadata": {},
     "output_type": "execute_result"
    }
   ],
   "source": [
    "df3.HomePlanet.value_counts()"
   ]
  },
  {
   "cell_type": "code",
   "execution_count": 50,
   "id": "9ca3a2a3",
   "metadata": {},
   "outputs": [],
   "source": [
    "df3['HomePlanet'] = pd.Categorical(df3.HomePlanet)"
   ]
  },
  {
   "cell_type": "markdown",
   "id": "6625bc3a",
   "metadata": {},
   "source": [
    "Больше всего пассажиров вылетело с Земли, меньше всего - с Марса. Посмотрим, а сколько пассажиров было перенесено в другое измерение с каждой планеты."
   ]
  },
  {
   "cell_type": "code",
   "execution_count": 51,
   "id": "7d5e8397",
   "metadata": {},
   "outputs": [
    {
     "data": {
      "text/html": [
       "<div>\n",
       "<style scoped>\n",
       "    .dataframe tbody tr th:only-of-type {\n",
       "        vertical-align: middle;\n",
       "    }\n",
       "\n",
       "    .dataframe tbody tr th {\n",
       "        vertical-align: top;\n",
       "    }\n",
       "\n",
       "    .dataframe thead th {\n",
       "        text-align: right;\n",
       "    }\n",
       "</style>\n",
       "<table border=\"1\" class=\"dataframe\">\n",
       "  <thead>\n",
       "    <tr style=\"text-align: right;\">\n",
       "      <th></th>\n",
       "      <th>Transported</th>\n",
       "    </tr>\n",
       "    <tr>\n",
       "      <th>HomePlanet</th>\n",
       "      <th></th>\n",
       "    </tr>\n",
       "  </thead>\n",
       "  <tbody>\n",
       "    <tr>\n",
       "      <th>Earth</th>\n",
       "      <td>2051</td>\n",
       "    </tr>\n",
       "    <tr>\n",
       "      <th>Europa</th>\n",
       "      <td>1368</td>\n",
       "    </tr>\n",
       "    <tr>\n",
       "      <th>Mars</th>\n",
       "      <td>917</td>\n",
       "    </tr>\n",
       "  </tbody>\n",
       "</table>\n",
       "</div>"
      ],
      "text/plain": [
       "            Transported\n",
       "HomePlanet             \n",
       "Earth              2051\n",
       "Europa             1368\n",
       "Mars                917"
      ]
     },
     "execution_count": 51,
     "metadata": {},
     "output_type": "execute_result"
    }
   ],
   "source": [
    "df3.groupby('HomePlanet').agg({'Transported':'sum'})"
   ]
  },
  {
   "cell_type": "markdown",
   "id": "8c2417c8",
   "metadata": {},
   "source": [
    "Видим, что распределение пропорционально общему кол-ву пассажиров: наибольшее - было перевезено с Земли, наименьшее так же с Марса. Однако, это абсолютные величины, а какая доля траспортированных пассажиров?"
   ]
  },
  {
   "cell_type": "code",
   "execution_count": 52,
   "id": "7aaaae37",
   "metadata": {},
   "outputs": [
    {
     "data": {
      "image/png": "[encoded data removed]",
      "text/plain": [
       "<Figure size 504x288 with 1 Axes>"
      ]
     },
     "metadata": {
      "needs_background": "light"
     },
     "output_type": "display_data"
    }
   ],
   "source": [
    "HomePlanet_Transp = df3.groupby('HomePlanet').agg({'Transported':'mean'}).plot(kind = 'barh', color = colors[0], figsize=(7, 4))\n",
    "HomePlanet_Transp.set_xlabel('Планета')\n",
    "HomePlanet_Transp.set_title('Доля транпортированных пассажиров по планетам')\n",
    "\n",
    "for i in HomePlanet_Transp.containers:\n",
    "    HomePlanet_Transp.bar_label(i, label_type='center', color = 'white', fmt='%.2f')"
   ]
  },
  {
   "cell_type": "markdown",
   "id": "81826508",
   "metadata": {},
   "source": [
    "Получили первый инсайт! Несмотря на то, что с Земли в абсолютном значении было перевезено больше всего пассажиров, в относительном отношении Земля показала наименьшую долю - 43%. В то время как с Европы - 66% и Марса - 52%."
   ]
  },
  {
   "cell_type": "markdown",
   "id": "4b93d446",
   "metadata": {},
   "source": [
    "<b>CryoSleep</b>"
   ]
  },
  {
   "cell_type": "code",
   "execution_count": 53,
   "id": "09f83b6e",
   "metadata": {},
   "outputs": [
    {
     "data": {
      "text/plain": [
       "False    5523\n",
       "True     3031\n",
       "Name: CryoSleep, dtype: int64"
      ]
     },
     "execution_count": 53,
     "metadata": {},
     "output_type": "execute_result"
    }
   ],
   "source": [
    "df3.CryoSleep.value_counts()"
   ]
  },
  {
   "cell_type": "markdown",
   "id": "d3af2dc3",
   "metadata": {},
   "source": [
    "Большая часть пассажиров не находилась в криосне."
   ]
  },
  {
   "cell_type": "code",
   "execution_count": 54,
   "id": "f9ca0a51",
   "metadata": {},
   "outputs": [
    {
     "data": {
      "image/png": "[encoded data removed]",
      "text/plain": [
       "<Figure size 504x288 with 1 Axes>"
      ]
     },
     "metadata": {
      "needs_background": "light"
     },
     "output_type": "display_data"
    }
   ],
   "source": [
    "CryoSleep_Transp = df3.groupby('CryoSleep').agg({'Transported':'mean'}).plot(kind = 'bar', color = colors[1], figsize=(7, 4))\n",
    "CryoSleep_Transp.set_xlabel('CryoSleep')\n",
    "CryoSleep_Transp.set_title('Доля траспортированных пассажиров в зависимости от криосна')\n",
    "\n",
    "for i in CryoSleep_Transp.containers:\n",
    "    CryoSleep_Transp.bar_label(i, label_type='center', color = 'white', fmt='%.2f')"
   ]
  },
  {
   "cell_type": "markdown",
   "id": "e8411864",
   "metadata": {},
   "source": [
    "Получили второй интересный инсайт: нахождение пассажира в криосне положительно коррелирует с фактом транспортировки. Так, 82% пассажиров, находящихся в криосне, были перенесены, а из тех, кто не находился в криосне, было транспортировано только 34%."
   ]
  },
  {
   "cell_type": "markdown",
   "id": "420b3e54",
   "metadata": {},
   "source": [
    "<b>Destination</b>"
   ]
  },
  {
   "cell_type": "code",
   "execution_count": 55,
   "id": "9fd6e5f4",
   "metadata": {},
   "outputs": [
    {
     "data": {
      "text/plain": [
       "TRAPPIST-1e      6023\n",
       "55 Cancri e      1737\n",
       "PSO J318.5-22     794\n",
       "Name: Destination, dtype: int64"
      ]
     },
     "execution_count": 55,
     "metadata": {},
     "output_type": "execute_result"
    }
   ],
   "source": [
    "df3.Destination.value_counts()"
   ]
  },
  {
   "cell_type": "code",
   "execution_count": 56,
   "id": "98ae1b64",
   "metadata": {},
   "outputs": [],
   "source": [
    "df3['Destination'] = pd.Categorical(df3.Destination)"
   ]
  },
  {
   "cell_type": "code",
   "execution_count": 57,
   "id": "daaa4670",
   "metadata": {},
   "outputs": [
    {
     "data": {
      "text/html": [
       "<div>\n",
       "<style scoped>\n",
       "    .dataframe tbody tr th:only-of-type {\n",
       "        vertical-align: middle;\n",
       "    }\n",
       "\n",
       "    .dataframe tbody tr th {\n",
       "        vertical-align: top;\n",
       "    }\n",
       "\n",
       "    .dataframe thead th {\n",
       "        text-align: right;\n",
       "    }\n",
       "</style>\n",
       "<table border=\"1\" class=\"dataframe\">\n",
       "  <thead>\n",
       "    <tr style=\"text-align: right;\">\n",
       "      <th></th>\n",
       "      <th></th>\n",
       "      <th>0</th>\n",
       "    </tr>\n",
       "    <tr>\n",
       "      <th>Destination</th>\n",
       "      <th>Transported</th>\n",
       "      <th></th>\n",
       "    </tr>\n",
       "  </thead>\n",
       "  <tbody>\n",
       "    <tr>\n",
       "      <th rowspan=\"2\" valign=\"top\">TRAPPIST-1e</th>\n",
       "      <th>False</th>\n",
       "      <td>3165</td>\n",
       "    </tr>\n",
       "    <tr>\n",
       "      <th>True</th>\n",
       "      <td>2858</td>\n",
       "    </tr>\n",
       "    <tr>\n",
       "      <th rowspan=\"2\" valign=\"top\">55 Cancri e</th>\n",
       "      <th>True</th>\n",
       "      <td>1077</td>\n",
       "    </tr>\n",
       "    <tr>\n",
       "      <th>False</th>\n",
       "      <td>660</td>\n",
       "    </tr>\n",
       "    <tr>\n",
       "      <th rowspan=\"2\" valign=\"top\">PSO J318.5-22</th>\n",
       "      <th>True</th>\n",
       "      <td>401</td>\n",
       "    </tr>\n",
       "    <tr>\n",
       "      <th>False</th>\n",
       "      <td>393</td>\n",
       "    </tr>\n",
       "  </tbody>\n",
       "</table>\n",
       "</div>"
      ],
      "text/plain": [
       "                              0\n",
       "Destination   Transported      \n",
       "TRAPPIST-1e   False        3165\n",
       "              True         2858\n",
       "55 Cancri e   True         1077\n",
       "              False         660\n",
       "PSO J318.5-22 True          401\n",
       "              False         393"
      ]
     },
     "execution_count": 57,
     "metadata": {},
     "output_type": "execute_result"
    }
   ],
   "source": [
    "df3[['Destination','Transported']].value_counts().to_frame()"
   ]
  },
  {
   "cell_type": "code",
   "execution_count": 58,
   "id": "4cfd6474",
   "metadata": {},
   "outputs": [
    {
     "data": {
      "image/png": "[encoded data removed]",
      "text/plain": [
       "<Figure size 427.125x360 with 1 Axes>"
      ]
     },
     "metadata": {
      "needs_background": "light"
     },
     "output_type": "display_data"
    }
   ],
   "source": [
    "sns.catplot(x=\"Destination\", hue='Transported', kind=\"count\", data=df3, palette=colors)\n",
    "plt.show()"
   ]
  },
  {
   "cell_type": "code",
   "execution_count": 59,
   "id": "40106970",
   "metadata": {},
   "outputs": [
    {
     "data": {
      "image/png": "[encoded data removed]",
      "text/plain": [
       "<Figure size 504x288 with 1 Axes>"
      ]
     },
     "metadata": {
      "needs_background": "light"
     },
     "output_type": "display_data"
    }
   ],
   "source": [
    "Destination_Transp = df3.groupby('Destination').agg({'Transported':'mean'}).plot(kind = 'bar', color = colors[0], figsize=(7, 4))\n",
    "Destination_Transp.set_xlabel('Destination')\n",
    "Destination_Transp.set_title('Доля траспортированных пассажиров в зависимости от пункта назначения')\n",
    "\n",
    "for i in Destination_Transp.containers:\n",
    "    Destination_Transp.bar_label(i, label_type='center', color = 'white', fmt='%.2f')"
   ]
  },
  {
   "cell_type": "markdown",
   "id": "9ea15281",
   "metadata": {},
   "source": [
    "Проанализировав 2 графика выше можно сделать вывод о том, что несмотря на то, что в направлении TRAPPIST-1e было перевезено больше всего пассажиров, доля транпортированых здесь самая низкая (47%). Самая высокая доля наблюдается на направлении 55 Cancri e. "
   ]
  },
  {
   "cell_type": "markdown",
   "id": "0ccdfbcc",
   "metadata": {},
   "source": [
    "<b>VIP</b>"
   ]
  },
  {
   "cell_type": "code",
   "execution_count": 60,
   "id": "5dbed2e1",
   "metadata": {},
   "outputs": [
    {
     "data": {
      "text/plain": [
       "False    0.978373\n",
       "True     0.021627\n",
       "Name: VIP, dtype: float64"
      ]
     },
     "execution_count": 60,
     "metadata": {},
     "output_type": "execute_result"
    }
   ],
   "source": [
    "df3.VIP.value_counts(normalize=True)"
   ]
  },
  {
   "cell_type": "markdown",
   "id": "6ffb43d7",
   "metadata": {},
   "source": [
    "VIP-пассажиров было всего 2% на борту."
   ]
  },
  {
   "cell_type": "code",
   "execution_count": 61,
   "id": "6afc0370",
   "metadata": {},
   "outputs": [
    {
     "data": {
      "text/plain": [
       "<AxesSubplot:ylabel='VIP'>"
      ]
     },
     "execution_count": 61,
     "metadata": {},
     "output_type": "execute_result"
    },
    {
     "data": {
      "image/png": "[encoded data removed]",
      "text/plain": [
       "<Figure size 504x288 with 1 Axes>"
      ]
     },
     "metadata": {
      "needs_background": "light"
     },
     "output_type": "display_data"
    }
   ],
   "source": [
    "df.groupby('VIP')['Transported'].value_counts(normalize=True).unstack('Transported').plot.barh(stacked=True,figsize=(7,4), color = colors)"
   ]
  },
  {
   "cell_type": "markdown",
   "id": "2f984373",
   "metadata": {},
   "source": [
    "При этом доля траспортированных VIP-клиентов не намного ниже, чем обычных. Учитывая небольшое число VIP-пассажиров и отсутствие значительной разницы в транспортировке VIP и не VIP, вероятно, данная переменная не будет оказывать значительного влияния на прогноз."
   ]
  },
  {
   "cell_type": "markdown",
   "id": "d4285825",
   "metadata": {},
   "source": [
    "Дополнительно посчитаем суммарные расходы VIP и не VIP клиентов на доп. услуги."
   ]
  },
  {
   "cell_type": "code",
   "execution_count": 62,
   "id": "2d8969ea",
   "metadata": {},
   "outputs": [
    {
     "data": {
      "text/html": [
       "<div>\n",
       "<style scoped>\n",
       "    .dataframe tbody tr th:only-of-type {\n",
       "        vertical-align: middle;\n",
       "    }\n",
       "\n",
       "    .dataframe tbody tr th {\n",
       "        vertical-align: top;\n",
       "    }\n",
       "\n",
       "    .dataframe thead th {\n",
       "        text-align: right;\n",
       "    }\n",
       "</style>\n",
       "<table border=\"1\" class=\"dataframe\">\n",
       "  <thead>\n",
       "    <tr style=\"text-align: right;\">\n",
       "      <th></th>\n",
       "      <th>TotalSpendings</th>\n",
       "    </tr>\n",
       "    <tr>\n",
       "      <th>VIP</th>\n",
       "      <th></th>\n",
       "    </tr>\n",
       "  </thead>\n",
       "  <tbody>\n",
       "    <tr>\n",
       "      <th>False</th>\n",
       "      <td>11371145.0</td>\n",
       "    </tr>\n",
       "    <tr>\n",
       "      <th>True</th>\n",
       "      <td>880670.0</td>\n",
       "    </tr>\n",
       "  </tbody>\n",
       "</table>\n",
       "</div>"
      ],
      "text/plain": [
       "       TotalSpendings\n",
       "VIP                  \n",
       "False      11371145.0\n",
       "True         880670.0"
      ]
     },
     "execution_count": 62,
     "metadata": {},
     "output_type": "execute_result"
    }
   ],
   "source": [
    "df.groupby('VIP')['TotalSpendings'].sum().to_frame()"
   ]
  },
  {
   "cell_type": "markdown",
   "id": "98622d63",
   "metadata": {},
   "source": [
    "VIP-клиенты также немного тратили не доп. расходы, вероятно потому, что они уже были включены в их тариф."
   ]
  },
  {
   "cell_type": "markdown",
   "id": "b57066fa",
   "metadata": {},
   "source": [
    "<b>Cabin</b>"
   ]
  },
  {
   "cell_type": "markdown",
   "id": "9f8d2324",
   "metadata": {},
   "source": [
    "Исходя из описания данных знаем, что <em>Cabin</em> - номер каюты, в которой находится пассажир. Принимает форму deck/num/side. <br> И как мы проанализировали ранее, она содержит 6560 уникальных строковых значений, что не несет для нас ценности в таком виде. Поэтому преобразуем ее в 3 признака по разделителю \"/\" и исследуем их."
   ]
  },
  {
   "cell_type": "code",
   "execution_count": 63,
   "id": "811a3ec9",
   "metadata": {},
   "outputs": [],
   "source": [
    "df3[['cabin_deck', 'cabin_num', 'cabin_side']] = df3['Cabin'].str.split('/', expand=True)\n",
    "df3['cabin_num'] = pd.to_numeric(df3['cabin_num'])\n",
    "df3 = df3.drop(columns='Cabin')"
   ]
  },
  {
   "cell_type": "code",
   "execution_count": 64,
   "id": "4b41faf5",
   "metadata": {},
   "outputs": [
    {
     "name": "stdout",
     "output_type": "stream",
     "text": [
      "<class 'pandas.core.frame.DataFrame'>\n",
      "RangeIndex: 8554 entries, 0 to 8553\n",
      "Data columns (total 17 columns):\n",
      " #   Column          Non-Null Count  Dtype   \n",
      "---  ------          --------------  -----   \n",
      " 0   PassengerId     8554 non-null   object  \n",
      " 1   HomePlanet      8554 non-null   category\n",
      " 2   CryoSleep       8554 non-null   bool    \n",
      " 3   Destination     8554 non-null   category\n",
      " 4   Age             8554 non-null   float64 \n",
      " 5   VIP             8554 non-null   bool    \n",
      " 6   RoomService     8554 non-null   float64 \n",
      " 7   FoodCourt       8554 non-null   float64 \n",
      " 8   ShoppingMall    8554 non-null   float64 \n",
      " 9   Spa             8554 non-null   float64 \n",
      " 10  VRDeck          8554 non-null   float64 \n",
      " 11  Name            8554 non-null   object  \n",
      " 12  Transported     8554 non-null   bool    \n",
      " 13  TotalSpendings  8554 non-null   float64 \n",
      " 14  cabin_deck      8360 non-null   object  \n",
      " 15  cabin_num       8360 non-null   float64 \n",
      " 16  cabin_side      8360 non-null   object  \n",
      "dtypes: bool(3), category(2), float64(8), object(4)\n",
      "memory usage: 844.1+ KB\n"
     ]
    }
   ],
   "source": [
    "df3.info()"
   ]
  },
  {
   "cell_type": "code",
   "execution_count": 65,
   "id": "12a56a4a",
   "metadata": {},
   "outputs": [
    {
     "data": {
      "text/plain": [
       "F    2788\n",
       "G    2550\n",
       "E     869\n",
       "B     736\n",
       "C     695\n",
       "D     471\n",
       "A     246\n",
       "T       5\n",
       "Name: cabin_deck, dtype: int64"
      ]
     },
     "execution_count": 65,
     "metadata": {},
     "output_type": "execute_result"
    }
   ],
   "source": [
    "df3.cabin_deck.value_counts()"
   ]
  },
  {
   "cell_type": "markdown",
   "id": "6ae359cd",
   "metadata": {},
   "source": [
    "Эта информация яввляется уже более интересной для нас, всего 8 категорий."
   ]
  },
  {
   "cell_type": "code",
   "execution_count": 66,
   "id": "2920a161",
   "metadata": {},
   "outputs": [
    {
     "data": {
      "text/plain": [
       "<AxesSubplot:xlabel='cabin_deck'>"
      ]
     },
     "execution_count": 66,
     "metadata": {},
     "output_type": "execute_result"
    },
    {
     "data": {
      "image/png": "[encoded data removed]",
      "text/plain": [
       "<Figure size 432x288 with 1 Axes>"
      ]
     },
     "metadata": {
      "needs_background": "light"
     },
     "output_type": "display_data"
    }
   ],
   "source": [
    "df3.groupby('cabin_deck').agg({'Transported':'mean'}).sort_values(by='Transported').plot(kind = 'bar', color = colors[0])"
   ]
  },
  {
   "cell_type": "markdown",
   "id": "a1b65898",
   "metadata": {},
   "source": [
    "Мы видим определенную закономерность между палубой и транспортировкой. Вероятнее всего, какие-то палубы были более безопасны. Поэтому мы будем использовать данную переменную для прогноза. Но чтобы наша модель корректно распознала признак, его нужно перекодировать в числовую переменную. Также сгруппируем палубы в 3 группы."
   ]
  },
  {
   "cell_type": "code",
   "execution_count": 67,
   "id": "9fb0039e",
   "metadata": {},
   "outputs": [],
   "source": [
    "DeckGroup = {'T': 1, 'E': 2,'A': 2, 'D': 2,'F': 2,'G': 2,'C': 3,'B': 3}"
   ]
  },
  {
   "cell_type": "code",
   "execution_count": 68,
   "id": "d988006c",
   "metadata": {},
   "outputs": [],
   "source": [
    "df3['DeckGroup'] = df3['cabin_deck'].replace(DeckGroup)"
   ]
  },
  {
   "cell_type": "code",
   "execution_count": 69,
   "id": "2adbf7e4",
   "metadata": {},
   "outputs": [
    {
     "data": {
      "text/plain": [
       "2.0"
      ]
     },
     "execution_count": 69,
     "metadata": {},
     "output_type": "execute_result"
    }
   ],
   "source": [
    "imp = df3['DeckGroup'].mode()[0]\n",
    "imp"
   ]
  },
  {
   "cell_type": "code",
   "execution_count": 70,
   "id": "f96f26f9",
   "metadata": {},
   "outputs": [],
   "source": [
    "df3['DeckGroup'] = df3.DeckGroup.fillna(imp) #самая многочисленная группа(мода)"
   ]
  },
  {
   "cell_type": "code",
   "execution_count": 71,
   "id": "8fb317b3",
   "metadata": {},
   "outputs": [
    {
     "data": {
      "text/plain": [
       "<AxesSubplot:title={'center':'Распределение пассажиров по номеру кабины'}, xlabel='cabin_num', ylabel='Count'>"
      ]
     },
     "execution_count": 71,
     "metadata": {},
     "output_type": "execute_result"
    },
    {
     "data": {
      "image/png": "[encoded data removed]",
      "text/plain": [
       "<Figure size 432x288 with 1 Axes>"
      ]
     },
     "metadata": {
      "needs_background": "light"
     },
     "output_type": "display_data"
    }
   ],
   "source": [
    "plt.title('Распределение пассажиров по номеру кабины')\n",
    "sns.histplot(x=\"cabin_num\", data=df3, hue = 'Transported', palette = colors)"
   ]
  },
  {
   "cell_type": "markdown",
   "id": "6cac7c56",
   "metadata": {},
   "source": [
    "Так как у нас большое кол-во уникальных значений, сгруппируем их:"
   ]
  },
  {
   "cell_type": "code",
   "execution_count": 72,
   "id": "3fa284cf",
   "metadata": {},
   "outputs": [],
   "source": [
    "def group(x):\n",
    "    \n",
    "    if (x >= 0) & (x <= 300):\n",
    "        return 1\n",
    "    elif (x > 300) & (x <= 600):\n",
    "        return 2\n",
    "    elif (x > 600) & (x <= 900):\n",
    "        return 3\n",
    "    elif (x > 900) & (x <= 1200):\n",
    "        return 3\n",
    "    elif (x > 1200) & (x <= 1500):\n",
    "        return 4\n",
    "    elif (x > 1500): \n",
    "        return 5"
   ]
  },
  {
   "cell_type": "code",
   "execution_count": 73,
   "id": "f0f4890e",
   "metadata": {},
   "outputs": [],
   "source": [
    "df3['NumGroup'] = df3['cabin_num'].apply(group)"
   ]
  },
  {
   "cell_type": "code",
   "execution_count": 74,
   "id": "7f471dc6",
   "metadata": {},
   "outputs": [],
   "source": [
    "imp = df3['NumGroup'].mode()[0]"
   ]
  },
  {
   "cell_type": "code",
   "execution_count": 75,
   "id": "ba1f15b0",
   "metadata": {},
   "outputs": [],
   "source": [
    "df3['NumGroup'] = df3['NumGroup'].fillna(imp)"
   ]
  },
  {
   "cell_type": "code",
   "execution_count": 76,
   "id": "bc21b188",
   "metadata": {},
   "outputs": [
    {
     "data": {
      "text/plain": [
       "Text(0.5, 1.0, 'Распределение пассажиров по номеру группы кабины')"
      ]
     },
     "execution_count": 76,
     "metadata": {},
     "output_type": "execute_result"
    },
    {
     "data": {
      "image/png": "[encoded data removed]",
      "text/plain": [
       "<Figure size 432x288 with 1 Axes>"
      ]
     },
     "metadata": {
      "needs_background": "light"
     },
     "output_type": "display_data"
    }
   ],
   "source": [
    "sns.countplot(x=df3.NumGroup, data = df3, hue = 'Transported', palette = colors)\n",
    "plt.title('Распределение пассажиров по номеру группы кабины')"
   ]
  },
  {
   "cell_type": "markdown",
   "id": "e4339e24",
   "metadata": {},
   "source": [
    "Теперь зависимость более явная. В первой группе наибольшее число перевезенных пассажиров, в 5 - наименьшее. Так же будем использовать данную переменную для прогноза."
   ]
  },
  {
   "cell_type": "code",
   "execution_count": 77,
   "id": "af33de7b",
   "metadata": {},
   "outputs": [
    {
     "data": {
      "text/plain": [
       "<AxesSubplot:xlabel='cabin_side'>"
      ]
     },
     "execution_count": 77,
     "metadata": {},
     "output_type": "execute_result"
    },
    {
     "data": {
      "image/png": "[encoded data removed]",
      "text/plain": [
       "<Figure size 432x288 with 1 Axes>"
      ]
     },
     "metadata": {
      "needs_background": "light"
     },
     "output_type": "display_data"
    }
   ],
   "source": [
    "df3.groupby('cabin_side').agg({'Transported':'mean'}).plot(kind = 'bar', color = colors)"
   ]
  },
  {
   "cell_type": "markdown",
   "id": "01ab87c6",
   "metadata": {},
   "source": [
    "Зависимость несущественная от признака side, поэтому переменную можно удалить из массива, а также столбцы, которые мы перекодировали."
   ]
  },
  {
   "cell_type": "code",
   "execution_count": 78,
   "id": "9fe2f520",
   "metadata": {},
   "outputs": [],
   "source": [
    "df3 = df3.drop(columns=['cabin_side','cabin_num','cabin_deck'])"
   ]
  },
  {
   "cell_type": "markdown",
   "id": "47dddda4",
   "metadata": {},
   "source": [
    "<b>Machine learning</b>"
   ]
  },
  {
   "cell_type": "markdown",
   "id": "711c6fdd",
   "metadata": {},
   "source": [
    "Теперь, когда мы детально изучили массив, подготовим его к использованию в ML-модели.\n",
    "В данном случае мы будем решать задачу классификации: будет ли перенесен пассажир в другое измерение или нет (1 или 0)."
   ]
  },
  {
   "cell_type": "markdown",
   "id": "ae0797ea",
   "metadata": {},
   "source": [
    "Существуют разные модели классификации, в данном случае мы будем использовать одну из них - модель К-ближайших соседей."
   ]
  },
  {
   "cell_type": "markdown",
   "id": "2c5e5001",
   "metadata": {},
   "source": [
    "Для того, чтобы модель корректно работала с категориальными признаками, нам необходимо перекодировать их в числовые."
   ]
  },
  {
   "cell_type": "code",
   "execution_count": 79,
   "id": "69076c7d",
   "metadata": {},
   "outputs": [],
   "source": [
    "homeplanet = pd.get_dummies(df3['HomePlanet'])\n",
    "destination = pd.get_dummies(df3['Destination'])"
   ]
  },
  {
   "cell_type": "code",
   "execution_count": 80,
   "id": "8e09ae70",
   "metadata": {},
   "outputs": [
    {
     "data": {
      "text/html": [
       "<div>\n",
       "<style scoped>\n",
       "    .dataframe tbody tr th:only-of-type {\n",
       "        vertical-align: middle;\n",
       "    }\n",
       "\n",
       "    .dataframe tbody tr th {\n",
       "        vertical-align: top;\n",
       "    }\n",
       "\n",
       "    .dataframe thead th {\n",
       "        text-align: right;\n",
       "    }\n",
       "</style>\n",
       "<table border=\"1\" class=\"dataframe\">\n",
       "  <thead>\n",
       "    <tr style=\"text-align: right;\">\n",
       "      <th></th>\n",
       "      <th>Earth</th>\n",
       "      <th>Europa</th>\n",
       "      <th>Mars</th>\n",
       "    </tr>\n",
       "  </thead>\n",
       "  <tbody>\n",
       "    <tr>\n",
       "      <th>0</th>\n",
       "      <td>0</td>\n",
       "      <td>1</td>\n",
       "      <td>0</td>\n",
       "    </tr>\n",
       "    <tr>\n",
       "      <th>1</th>\n",
       "      <td>1</td>\n",
       "      <td>0</td>\n",
       "      <td>0</td>\n",
       "    </tr>\n",
       "    <tr>\n",
       "      <th>2</th>\n",
       "      <td>0</td>\n",
       "      <td>1</td>\n",
       "      <td>0</td>\n",
       "    </tr>\n",
       "    <tr>\n",
       "      <th>3</th>\n",
       "      <td>0</td>\n",
       "      <td>1</td>\n",
       "      <td>0</td>\n",
       "    </tr>\n",
       "    <tr>\n",
       "      <th>4</th>\n",
       "      <td>1</td>\n",
       "      <td>0</td>\n",
       "      <td>0</td>\n",
       "    </tr>\n",
       "    <tr>\n",
       "      <th>...</th>\n",
       "      <td>...</td>\n",
       "      <td>...</td>\n",
       "      <td>...</td>\n",
       "    </tr>\n",
       "    <tr>\n",
       "      <th>8549</th>\n",
       "      <td>0</td>\n",
       "      <td>1</td>\n",
       "      <td>0</td>\n",
       "    </tr>\n",
       "    <tr>\n",
       "      <th>8550</th>\n",
       "      <td>1</td>\n",
       "      <td>0</td>\n",
       "      <td>0</td>\n",
       "    </tr>\n",
       "    <tr>\n",
       "      <th>8551</th>\n",
       "      <td>1</td>\n",
       "      <td>0</td>\n",
       "      <td>0</td>\n",
       "    </tr>\n",
       "    <tr>\n",
       "      <th>8552</th>\n",
       "      <td>0</td>\n",
       "      <td>1</td>\n",
       "      <td>0</td>\n",
       "    </tr>\n",
       "    <tr>\n",
       "      <th>8553</th>\n",
       "      <td>0</td>\n",
       "      <td>1</td>\n",
       "      <td>0</td>\n",
       "    </tr>\n",
       "  </tbody>\n",
       "</table>\n",
       "<p>8554 rows × 3 columns</p>\n",
       "</div>"
      ],
      "text/plain": [
       "      Earth  Europa  Mars\n",
       "0         0       1     0\n",
       "1         1       0     0\n",
       "2         0       1     0\n",
       "3         0       1     0\n",
       "4         1       0     0\n",
       "...     ...     ...   ...\n",
       "8549      0       1     0\n",
       "8550      1       0     0\n",
       "8551      1       0     0\n",
       "8552      0       1     0\n",
       "8553      0       1     0\n",
       "\n",
       "[8554 rows x 3 columns]"
      ]
     },
     "execution_count": 80,
     "metadata": {},
     "output_type": "execute_result"
    }
   ],
   "source": [
    "homeplanet"
   ]
  },
  {
   "cell_type": "code",
   "execution_count": 81,
   "id": "d45d537b",
   "metadata": {},
   "outputs": [
    {
     "data": {
      "text/html": [
       "<div>\n",
       "<style scoped>\n",
       "    .dataframe tbody tr th:only-of-type {\n",
       "        vertical-align: middle;\n",
       "    }\n",
       "\n",
       "    .dataframe tbody tr th {\n",
       "        vertical-align: top;\n",
       "    }\n",
       "\n",
       "    .dataframe thead th {\n",
       "        text-align: right;\n",
       "    }\n",
       "</style>\n",
       "<table border=\"1\" class=\"dataframe\">\n",
       "  <thead>\n",
       "    <tr style=\"text-align: right;\">\n",
       "      <th></th>\n",
       "      <th>55 Cancri e</th>\n",
       "      <th>PSO J318.5-22</th>\n",
       "      <th>TRAPPIST-1e</th>\n",
       "    </tr>\n",
       "  </thead>\n",
       "  <tbody>\n",
       "    <tr>\n",
       "      <th>0</th>\n",
       "      <td>0</td>\n",
       "      <td>0</td>\n",
       "      <td>1</td>\n",
       "    </tr>\n",
       "    <tr>\n",
       "      <th>1</th>\n",
       "      <td>0</td>\n",
       "      <td>0</td>\n",
       "      <td>1</td>\n",
       "    </tr>\n",
       "    <tr>\n",
       "      <th>2</th>\n",
       "      <td>0</td>\n",
       "      <td>0</td>\n",
       "      <td>1</td>\n",
       "    </tr>\n",
       "    <tr>\n",
       "      <th>3</th>\n",
       "      <td>0</td>\n",
       "      <td>0</td>\n",
       "      <td>1</td>\n",
       "    </tr>\n",
       "    <tr>\n",
       "      <th>4</th>\n",
       "      <td>0</td>\n",
       "      <td>0</td>\n",
       "      <td>1</td>\n",
       "    </tr>\n",
       "    <tr>\n",
       "      <th>...</th>\n",
       "      <td>...</td>\n",
       "      <td>...</td>\n",
       "      <td>...</td>\n",
       "    </tr>\n",
       "    <tr>\n",
       "      <th>8549</th>\n",
       "      <td>1</td>\n",
       "      <td>0</td>\n",
       "      <td>0</td>\n",
       "    </tr>\n",
       "    <tr>\n",
       "      <th>8550</th>\n",
       "      <td>0</td>\n",
       "      <td>1</td>\n",
       "      <td>0</td>\n",
       "    </tr>\n",
       "    <tr>\n",
       "      <th>8551</th>\n",
       "      <td>0</td>\n",
       "      <td>0</td>\n",
       "      <td>1</td>\n",
       "    </tr>\n",
       "    <tr>\n",
       "      <th>8552</th>\n",
       "      <td>1</td>\n",
       "      <td>0</td>\n",
       "      <td>0</td>\n",
       "    </tr>\n",
       "    <tr>\n",
       "      <th>8553</th>\n",
       "      <td>0</td>\n",
       "      <td>0</td>\n",
       "      <td>1</td>\n",
       "    </tr>\n",
       "  </tbody>\n",
       "</table>\n",
       "<p>8554 rows × 3 columns</p>\n",
       "</div>"
      ],
      "text/plain": [
       "      55 Cancri e  PSO J318.5-22  TRAPPIST-1e\n",
       "0               0              0            1\n",
       "1               0              0            1\n",
       "2               0              0            1\n",
       "3               0              0            1\n",
       "4               0              0            1\n",
       "...           ...            ...          ...\n",
       "8549            1              0            0\n",
       "8550            0              1            0\n",
       "8551            0              0            1\n",
       "8552            1              0            0\n",
       "8553            0              0            1\n",
       "\n",
       "[8554 rows x 3 columns]"
      ]
     },
     "execution_count": 81,
     "metadata": {},
     "output_type": "execute_result"
    }
   ],
   "source": [
    "destination"
   ]
  },
  {
   "cell_type": "code",
   "execution_count": 82,
   "id": "b62cb136",
   "metadata": {},
   "outputs": [],
   "source": [
    "df3 = pd.concat([df3,homeplanet,destination],axis=1)"
   ]
  },
  {
   "cell_type": "code",
   "execution_count": 83,
   "id": "db0dde2b",
   "metadata": {},
   "outputs": [
    {
     "data": {
      "text/html": [
       "<div>\n",
       "<style scoped>\n",
       "    .dataframe tbody tr th:only-of-type {\n",
       "        vertical-align: middle;\n",
       "    }\n",
       "\n",
       "    .dataframe tbody tr th {\n",
       "        vertical-align: top;\n",
       "    }\n",
       "\n",
       "    .dataframe thead th {\n",
       "        text-align: right;\n",
       "    }\n",
       "</style>\n",
       "<table border=\"1\" class=\"dataframe\">\n",
       "  <thead>\n",
       "    <tr style=\"text-align: right;\">\n",
       "      <th></th>\n",
       "      <th>PassengerId</th>\n",
       "      <th>HomePlanet</th>\n",
       "      <th>CryoSleep</th>\n",
       "      <th>Destination</th>\n",
       "      <th>Age</th>\n",
       "      <th>VIP</th>\n",
       "      <th>RoomService</th>\n",
       "      <th>FoodCourt</th>\n",
       "      <th>ShoppingMall</th>\n",
       "      <th>Spa</th>\n",
       "      <th>...</th>\n",
       "      <th>Transported</th>\n",
       "      <th>TotalSpendings</th>\n",
       "      <th>DeckGroup</th>\n",
       "      <th>NumGroup</th>\n",
       "      <th>Earth</th>\n",
       "      <th>Europa</th>\n",
       "      <th>Mars</th>\n",
       "      <th>55 Cancri e</th>\n",
       "      <th>PSO J318.5-22</th>\n",
       "      <th>TRAPPIST-1e</th>\n",
       "    </tr>\n",
       "  </thead>\n",
       "  <tbody>\n",
       "    <tr>\n",
       "      <th>0</th>\n",
       "      <td>0001_01</td>\n",
       "      <td>Europa</td>\n",
       "      <td>False</td>\n",
       "      <td>TRAPPIST-1e</td>\n",
       "      <td>39.0</td>\n",
       "      <td>False</td>\n",
       "      <td>0.0</td>\n",
       "      <td>0.0</td>\n",
       "      <td>0.0</td>\n",
       "      <td>0.0</td>\n",
       "      <td>...</td>\n",
       "      <td>False</td>\n",
       "      <td>0.0</td>\n",
       "      <td>3.0</td>\n",
       "      <td>1.0</td>\n",
       "      <td>0</td>\n",
       "      <td>1</td>\n",
       "      <td>0</td>\n",
       "      <td>0</td>\n",
       "      <td>0</td>\n",
       "      <td>1</td>\n",
       "    </tr>\n",
       "    <tr>\n",
       "      <th>1</th>\n",
       "      <td>0002_01</td>\n",
       "      <td>Earth</td>\n",
       "      <td>False</td>\n",
       "      <td>TRAPPIST-1e</td>\n",
       "      <td>24.0</td>\n",
       "      <td>False</td>\n",
       "      <td>109.0</td>\n",
       "      <td>9.0</td>\n",
       "      <td>25.0</td>\n",
       "      <td>549.0</td>\n",
       "      <td>...</td>\n",
       "      <td>True</td>\n",
       "      <td>736.0</td>\n",
       "      <td>2.0</td>\n",
       "      <td>1.0</td>\n",
       "      <td>1</td>\n",
       "      <td>0</td>\n",
       "      <td>0</td>\n",
       "      <td>0</td>\n",
       "      <td>0</td>\n",
       "      <td>1</td>\n",
       "    </tr>\n",
       "    <tr>\n",
       "      <th>2</th>\n",
       "      <td>0003_01</td>\n",
       "      <td>Europa</td>\n",
       "      <td>False</td>\n",
       "      <td>TRAPPIST-1e</td>\n",
       "      <td>58.0</td>\n",
       "      <td>True</td>\n",
       "      <td>43.0</td>\n",
       "      <td>3576.0</td>\n",
       "      <td>0.0</td>\n",
       "      <td>6715.0</td>\n",
       "      <td>...</td>\n",
       "      <td>False</td>\n",
       "      <td>10383.0</td>\n",
       "      <td>2.0</td>\n",
       "      <td>1.0</td>\n",
       "      <td>0</td>\n",
       "      <td>1</td>\n",
       "      <td>0</td>\n",
       "      <td>0</td>\n",
       "      <td>0</td>\n",
       "      <td>1</td>\n",
       "    </tr>\n",
       "    <tr>\n",
       "      <th>3</th>\n",
       "      <td>0003_02</td>\n",
       "      <td>Europa</td>\n",
       "      <td>False</td>\n",
       "      <td>TRAPPIST-1e</td>\n",
       "      <td>33.0</td>\n",
       "      <td>False</td>\n",
       "      <td>0.0</td>\n",
       "      <td>1283.0</td>\n",
       "      <td>371.0</td>\n",
       "      <td>3329.0</td>\n",
       "      <td>...</td>\n",
       "      <td>False</td>\n",
       "      <td>5176.0</td>\n",
       "      <td>2.0</td>\n",
       "      <td>1.0</td>\n",
       "      <td>0</td>\n",
       "      <td>1</td>\n",
       "      <td>0</td>\n",
       "      <td>0</td>\n",
       "      <td>0</td>\n",
       "      <td>1</td>\n",
       "    </tr>\n",
       "    <tr>\n",
       "      <th>4</th>\n",
       "      <td>0004_01</td>\n",
       "      <td>Earth</td>\n",
       "      <td>False</td>\n",
       "      <td>TRAPPIST-1e</td>\n",
       "      <td>16.0</td>\n",
       "      <td>False</td>\n",
       "      <td>303.0</td>\n",
       "      <td>70.0</td>\n",
       "      <td>151.0</td>\n",
       "      <td>565.0</td>\n",
       "      <td>...</td>\n",
       "      <td>True</td>\n",
       "      <td>1091.0</td>\n",
       "      <td>2.0</td>\n",
       "      <td>1.0</td>\n",
       "      <td>1</td>\n",
       "      <td>0</td>\n",
       "      <td>0</td>\n",
       "      <td>0</td>\n",
       "      <td>0</td>\n",
       "      <td>1</td>\n",
       "    </tr>\n",
       "    <tr>\n",
       "      <th>...</th>\n",
       "      <td>...</td>\n",
       "      <td>...</td>\n",
       "      <td>...</td>\n",
       "      <td>...</td>\n",
       "      <td>...</td>\n",
       "      <td>...</td>\n",
       "      <td>...</td>\n",
       "      <td>...</td>\n",
       "      <td>...</td>\n",
       "      <td>...</td>\n",
       "      <td>...</td>\n",
       "      <td>...</td>\n",
       "      <td>...</td>\n",
       "      <td>...</td>\n",
       "      <td>...</td>\n",
       "      <td>...</td>\n",
       "      <td>...</td>\n",
       "      <td>...</td>\n",
       "      <td>...</td>\n",
       "      <td>...</td>\n",
       "      <td>...</td>\n",
       "    </tr>\n",
       "    <tr>\n",
       "      <th>8549</th>\n",
       "      <td>9276_01</td>\n",
       "      <td>Europa</td>\n",
       "      <td>False</td>\n",
       "      <td>55 Cancri e</td>\n",
       "      <td>41.0</td>\n",
       "      <td>True</td>\n",
       "      <td>0.0</td>\n",
       "      <td>6819.0</td>\n",
       "      <td>0.0</td>\n",
       "      <td>1643.0</td>\n",
       "      <td>...</td>\n",
       "      <td>False</td>\n",
       "      <td>8536.0</td>\n",
       "      <td>2.0</td>\n",
       "      <td>1.0</td>\n",
       "      <td>0</td>\n",
       "      <td>1</td>\n",
       "      <td>0</td>\n",
       "      <td>1</td>\n",
       "      <td>0</td>\n",
       "      <td>0</td>\n",
       "    </tr>\n",
       "    <tr>\n",
       "      <th>8550</th>\n",
       "      <td>9278_01</td>\n",
       "      <td>Earth</td>\n",
       "      <td>True</td>\n",
       "      <td>PSO J318.5-22</td>\n",
       "      <td>18.0</td>\n",
       "      <td>False</td>\n",
       "      <td>0.0</td>\n",
       "      <td>0.0</td>\n",
       "      <td>0.0</td>\n",
       "      <td>0.0</td>\n",
       "      <td>...</td>\n",
       "      <td>False</td>\n",
       "      <td>0.0</td>\n",
       "      <td>2.0</td>\n",
       "      <td>4.0</td>\n",
       "      <td>1</td>\n",
       "      <td>0</td>\n",
       "      <td>0</td>\n",
       "      <td>0</td>\n",
       "      <td>1</td>\n",
       "      <td>0</td>\n",
       "    </tr>\n",
       "    <tr>\n",
       "      <th>8551</th>\n",
       "      <td>9279_01</td>\n",
       "      <td>Earth</td>\n",
       "      <td>False</td>\n",
       "      <td>TRAPPIST-1e</td>\n",
       "      <td>26.0</td>\n",
       "      <td>False</td>\n",
       "      <td>0.0</td>\n",
       "      <td>0.0</td>\n",
       "      <td>1872.0</td>\n",
       "      <td>1.0</td>\n",
       "      <td>...</td>\n",
       "      <td>True</td>\n",
       "      <td>1873.0</td>\n",
       "      <td>2.0</td>\n",
       "      <td>4.0</td>\n",
       "      <td>1</td>\n",
       "      <td>0</td>\n",
       "      <td>0</td>\n",
       "      <td>0</td>\n",
       "      <td>0</td>\n",
       "      <td>1</td>\n",
       "    </tr>\n",
       "    <tr>\n",
       "      <th>8552</th>\n",
       "      <td>9280_01</td>\n",
       "      <td>Europa</td>\n",
       "      <td>False</td>\n",
       "      <td>55 Cancri e</td>\n",
       "      <td>32.0</td>\n",
       "      <td>False</td>\n",
       "      <td>0.0</td>\n",
       "      <td>1049.0</td>\n",
       "      <td>0.0</td>\n",
       "      <td>353.0</td>\n",
       "      <td>...</td>\n",
       "      <td>False</td>\n",
       "      <td>4637.0</td>\n",
       "      <td>2.0</td>\n",
       "      <td>3.0</td>\n",
       "      <td>0</td>\n",
       "      <td>1</td>\n",
       "      <td>0</td>\n",
       "      <td>1</td>\n",
       "      <td>0</td>\n",
       "      <td>0</td>\n",
       "    </tr>\n",
       "    <tr>\n",
       "      <th>8553</th>\n",
       "      <td>9280_02</td>\n",
       "      <td>Europa</td>\n",
       "      <td>False</td>\n",
       "      <td>TRAPPIST-1e</td>\n",
       "      <td>44.0</td>\n",
       "      <td>False</td>\n",
       "      <td>126.0</td>\n",
       "      <td>4688.0</td>\n",
       "      <td>0.0</td>\n",
       "      <td>0.0</td>\n",
       "      <td>...</td>\n",
       "      <td>True</td>\n",
       "      <td>4826.0</td>\n",
       "      <td>2.0</td>\n",
       "      <td>3.0</td>\n",
       "      <td>0</td>\n",
       "      <td>1</td>\n",
       "      <td>0</td>\n",
       "      <td>0</td>\n",
       "      <td>0</td>\n",
       "      <td>1</td>\n",
       "    </tr>\n",
       "  </tbody>\n",
       "</table>\n",
       "<p>8554 rows × 22 columns</p>\n",
       "</div>"
      ],
      "text/plain": [
       "     PassengerId HomePlanet  CryoSleep    Destination   Age    VIP  \\\n",
       "0        0001_01     Europa      False    TRAPPIST-1e  39.0  False   \n",
       "1        0002_01      Earth      False    TRAPPIST-1e  24.0  False   \n",
       "2        0003_01     Europa      False    TRAPPIST-1e  58.0   True   \n",
       "3        0003_02     Europa      False    TRAPPIST-1e  33.0  False   \n",
       "4        0004_01      Earth      False    TRAPPIST-1e  16.0  False   \n",
       "...          ...        ...        ...            ...   ...    ...   \n",
       "8549     9276_01     Europa      False    55 Cancri e  41.0   True   \n",
       "8550     9278_01      Earth       True  PSO J318.5-22  18.0  False   \n",
       "8551     9279_01      Earth      False    TRAPPIST-1e  26.0  False   \n",
       "8552     9280_01     Europa      False    55 Cancri e  32.0  False   \n",
       "8553     9280_02     Europa      False    TRAPPIST-1e  44.0  False   \n",
       "\n",
       "      RoomService  FoodCourt  ShoppingMall     Spa  ...  Transported  \\\n",
       "0             0.0        0.0           0.0     0.0  ...        False   \n",
       "1           109.0        9.0          25.0   549.0  ...         True   \n",
       "2            43.0     3576.0           0.0  6715.0  ...        False   \n",
       "3             0.0     1283.0         371.0  3329.0  ...        False   \n",
       "4           303.0       70.0         151.0   565.0  ...         True   \n",
       "...           ...        ...           ...     ...  ...          ...   \n",
       "8549          0.0     6819.0           0.0  1643.0  ...        False   \n",
       "8550          0.0        0.0           0.0     0.0  ...        False   \n",
       "8551          0.0        0.0        1872.0     1.0  ...         True   \n",
       "8552          0.0     1049.0           0.0   353.0  ...        False   \n",
       "8553        126.0     4688.0           0.0     0.0  ...         True   \n",
       "\n",
       "     TotalSpendings  DeckGroup  NumGroup  Earth  Europa  Mars  55 Cancri e  \\\n",
       "0               0.0        3.0       1.0      0       1     0            0   \n",
       "1             736.0        2.0       1.0      1       0     0            0   \n",
       "2           10383.0        2.0       1.0      0       1     0            0   \n",
       "3            5176.0        2.0       1.0      0       1     0            0   \n",
       "4            1091.0        2.0       1.0      1       0     0            0   \n",
       "...             ...        ...       ...    ...     ...   ...          ...   \n",
       "8549         8536.0        2.0       1.0      0       1     0            1   \n",
       "8550            0.0        2.0       4.0      1       0     0            0   \n",
       "8551         1873.0        2.0       4.0      1       0     0            0   \n",
       "8552         4637.0        2.0       3.0      0       1     0            1   \n",
       "8553         4826.0        2.0       3.0      0       1     0            0   \n",
       "\n",
       "      PSO J318.5-22  TRAPPIST-1e  \n",
       "0                 0            1  \n",
       "1                 0            1  \n",
       "2                 0            1  \n",
       "3                 0            1  \n",
       "4                 0            1  \n",
       "...             ...          ...  \n",
       "8549              0            0  \n",
       "8550              1            0  \n",
       "8551              0            1  \n",
       "8552              0            0  \n",
       "8553              0            1  \n",
       "\n",
       "[8554 rows x 22 columns]"
      ]
     },
     "execution_count": 83,
     "metadata": {},
     "output_type": "execute_result"
    }
   ],
   "source": [
    "df3"
   ]
  },
  {
   "cell_type": "markdown",
   "id": "dbc3df57",
   "metadata": {},
   "source": [
    "Далее подготовим наш массив: x - экзогенные переменные, y - эндогенная переменная (целевая) - Transported."
   ]
  },
  {
   "cell_type": "code",
   "execution_count": 84,
   "id": "794f0abf",
   "metadata": {},
   "outputs": [],
   "source": [
    "x = df3.drop(columns=['HomePlanet','Destination','Transported', 'Name','PassengerId']) #удаляем HomePlanet','Destination' так как вместо них у меня эти есть преобразованные фичи\n",
    "y = df3.Transported"
   ]
  },
  {
   "cell_type": "markdown",
   "id": "71599b18",
   "metadata": {},
   "source": [
    "Далее делим датасет на обучающую и тестовую выборки:"
   ]
  },
  {
   "cell_type": "code",
   "execution_count": 85,
   "id": "e6a75a0b",
   "metadata": {},
   "outputs": [],
   "source": [
    "x_train, x_test, y_train, y_test = train_test_split(x,y,random_state = 0, test_size = 0.2)"
   ]
  },
  {
   "cell_type": "markdown",
   "id": "86ded79f",
   "metadata": {},
   "source": [
    "Обучаем модель:"
   ]
  },
  {
   "cell_type": "code",
   "execution_count": 86,
   "id": "0fae4b1a",
   "metadata": {},
   "outputs": [
    {
     "data": {
      "text/plain": [
       "KNeighborsClassifier(n_neighbors=10)"
      ]
     },
     "execution_count": 86,
     "metadata": {},
     "output_type": "execute_result"
    }
   ],
   "source": [
    "knn_clf = KNeighborsClassifier(n_neighbors=10)\n",
    "knn_clf.fit(x_train, y_train)"
   ]
  },
  {
   "cell_type": "markdown",
   "id": "e42991b0",
   "metadata": {},
   "source": [
    "Делаем прогноз и оцениванием метрику accuracy:"
   ]
  },
  {
   "cell_type": "code",
   "execution_count": 87,
   "id": "42ade349",
   "metadata": {},
   "outputs": [
    {
     "data": {
      "text/plain": [
       "0.7814143775569842"
      ]
     },
     "execution_count": 87,
     "metadata": {},
     "output_type": "execute_result"
    }
   ],
   "source": [
    "y_pred_test = knn_clf.predict(x_test)\n",
    "accuracy_score(y_test, y_pred_test)"
   ]
  },
  {
   "cell_type": "markdown",
   "id": "029cc261",
   "metadata": {},
   "source": [
    "Таким образом, модель показывает достаточно хорошую предсказательную способность с точностью 0.781 <br>\n",
    "Однако также в процессе анализа мы выяснили, что переменная VIP, вероятно, не влияет на вероятность транспортировки пассажира, а поэтому является \"лишней\". Проверим:"
   ]
  },
  {
   "cell_type": "code",
   "execution_count": 88,
   "id": "3fcf2faa",
   "metadata": {},
   "outputs": [],
   "source": [
    "x_2 = df3.drop(columns=['HomePlanet','Destination','Transported', 'Name','PassengerId','VIP']) #удалила HomePlanet','Destination' так как вместо них у меня эти есть преобразованные фичи\n",
    "y_2 = df3.Transported"
   ]
  },
  {
   "cell_type": "code",
   "execution_count": 89,
   "id": "f15333f2",
   "metadata": {},
   "outputs": [],
   "source": [
    "x_train, x_test, y_train, y_test = train_test_split(x_2,y_2,random_state = 0, test_size = 0.2)"
   ]
  },
  {
   "cell_type": "code",
   "execution_count": 90,
   "id": "cd220745",
   "metadata": {},
   "outputs": [
    {
     "data": {
      "text/plain": [
       "0.7819988310929281"
      ]
     },
     "execution_count": 90,
     "metadata": {},
     "output_type": "execute_result"
    }
   ],
   "source": [
    "knn_clf = KNeighborsClassifier(n_neighbors=10)\n",
    "\n",
    "#without cross-validation\n",
    "knn_clf.fit(x_train, y_train)\n",
    "y_pred_test = knn_clf.predict(x_test)\n",
    "accuracy_score(y_test, y_pred_test)"
   ]
  },
  {
   "cell_type": "markdown",
   "id": "9cfdc063",
   "metadata": {},
   "source": [
    "Действительно, качество модели немного повысилось до 0.782, если мы исключаем переменную VIP."
   ]
  },
  {
   "cell_type": "markdown",
   "id": "1a4c9c84",
   "metadata": {},
   "source": [
    "<b>Выводы</b>"
   ]
  },
  {
   "cell_type": "markdown",
   "id": "bb4153fc",
   "metadata": {},
   "source": [
    "Таким образом, в данной работе мы:\n",
    "    <ul>\n",
    "    <li>Обработали пропущенные значения и выбросы в данных;</li>\n",
    "    <li>Детально изучили экзогенные факторы;</li>\n",
    "    <li>Осуществили feature-engineering;</li>\n",
    "    <li>Подготовили массив для использования ML-модели;</li>\n",
    "    <li>Осуществили прогноз транспортировки пассажиров с помощью модели машинного обучения и оценили его точность.</li>\n",
    "    </ul>"
   ]
  },
  {
   "cell_type": "code",
   "execution_count": null,
   "id": "18deb8ad",
   "metadata": {},
   "outputs": [],
   "source": []
  }
 ],
 "metadata": {
  "kernelspec": {
   "display_name": "Python 3 (ipykernel)",
   "language": "python",
   "name": "python3"
  },
  "language_info": {
   "codemirror_mode": {
    "name": "ipython",
    "version": 3
   },
   "file_extension": ".py",
   "mimetype": "text/x-python",
   "name": "python",
   "nbconvert_exporter": "python",
   "pygments_lexer": "ipython3",
   "version": "3.9.12"
  }
 },
 "nbformat": 4,
 "nbformat_minor": 5
}
